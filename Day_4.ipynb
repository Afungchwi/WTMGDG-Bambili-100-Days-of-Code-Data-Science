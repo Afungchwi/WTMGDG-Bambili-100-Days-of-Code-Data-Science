{
  "nbformat": 4,
  "nbformat_minor": 0,
  "metadata": {
    "colab": {
      "name": "Day 4.ipynb",
      "provenance": [],
      "collapsed_sections": [],
      "authorship_tag": "ABX9TyNSwnsprGbI9bwCMbIwBk3w",
      "include_colab_link": true
    },
    "kernelspec": {
      "name": "python3",
      "display_name": "Python 3"
    },
    "language_info": {
      "name": "python"
    }
  },
  "cells": [
    {
      "cell_type": "markdown",
      "metadata": {
        "id": "view-in-github",
        "colab_type": "text"
      },
      "source": [
        "<a href=\"https://colab.research.google.com/github/Afungchwi/WTMGDG-Bambili-100-Days-of-Code-Data-Science/blob/main/Day_4.ipynb\" target=\"_parent\"><img src=\"https://colab.research.google.com/assets/colab-badge.svg\" alt=\"Open In Colab\"/></a>"
      ]
    },
    {
      "cell_type": "code",
      "metadata": {
        "id": "CZy5k_qaBTp-"
      },
      "source": [
        "list1 = [\"Hello\", \"World\", \"I\", \"Am\",\"Olivian\", 12.3, 3.5, 4.9, 2.5, 20.7, 40, 23, 12, 16]"
      ],
      "execution_count": null,
      "outputs": []
    },
    {
      "cell_type": "code",
      "metadata": {
        "id": "jccqFX8hCI54"
      },
      "source": [
        "var1 = \"Hello \" + \"World\"\n",
        "var_list = list1.append(var1) \n",
        "#add a variable to a list we use the .append or .insert. the .append add the variable\n",
        "#at the end of the list while the .insert add the variable at the start of the list\n",
        "#adding two list we use the '+' sign\n",
        "\n",
        "print(var_list)"
      ],
      "execution_count": null,
      "outputs": []
    },
    {
      "cell_type": "code",
      "metadata": {
        "id": "kseIbXnVG2ok"
      },
      "source": [
        "list4 = [\"Welcome to\", \"100\", \"days\", \"of Data Science\", 4, 8, 9, 10, 34, 6.3, 87.9, 3.2, 34.9, 4.2, 67.9 ]"
      ],
      "execution_count": null,
      "outputs": []
    },
    {
      "cell_type": "code",
      "metadata": {
        "colab": {
          "base_uri": "https://localhost:8080/"
        },
        "id": "nsIX228UUMTv",
        "outputId": "cf2d6fab-e104-4858-8c78-c6152996dc24"
      },
      "source": [
        "list5 = list1 + list4\n",
        "print(list5)"
      ],
      "execution_count": null,
      "outputs": [
        {
          "output_type": "stream",
          "name": "stdout",
          "text": [
            "['Hello', 'World', 'I', 'Am', 'Olivian', 12.3, 3.5, 4.9, 2.5, 20.7, 40, 23, 12, 16, 'Welcome to', '100', 'days', 'of Data Science', 4, 8, 9, 10, 34, 6.3, 87.9, 3.2, 34.9, 4.2, 67.9]\n"
          ]
        }
      ]
    },
    {
      "cell_type": "code",
      "metadata": {
        "id": "alBzclFamigU",
        "outputId": "4e10fb41-1bde-441a-d82a-3e0cbacbae1c",
        "colab": {
          "base_uri": "https://localhost:8080/"
        }
      },
      "source": [
        "list2 = [5, 6, 7.0, \"Eight\", \"Nine\"]\n",
        "list3 = []\n",
        "for t in list2:\n",
        "  list3 = type(t)\n",
        "  print (list3)"
      ],
      "execution_count": 1,
      "outputs": [
        {
          "output_type": "stream",
          "name": "stdout",
          "text": [
            "<class 'int'>\n",
            "<class 'int'>\n",
            "<class 'float'>\n",
            "<class 'str'>\n",
            "<class 'str'>\n"
          ]
        }
      ]
    }
  ]
}