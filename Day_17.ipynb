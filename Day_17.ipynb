{
  "nbformat": 4,
  "nbformat_minor": 0,
  "metadata": {
    "colab": {
      "name": "Day 17.ipynb",
      "provenance": [],
      "collapsed_sections": [],
      "authorship_tag": "ABX9TyN5nP+Svb/jbvDjEw8vYB/f",
      "include_colab_link": true
    },
    "kernelspec": {
      "name": "python3",
      "display_name": "Python 3"
    },
    "language_info": {
      "name": "python"
    }
  },
  "cells": [
    {
      "cell_type": "markdown",
      "metadata": {
        "id": "view-in-github",
        "colab_type": "text"
      },
      "source": [
        "<a href=\"https://colab.research.google.com/github/Afungchwi/WTMGDG-Bambili-100-Days-of-Code-Data-Science/blob/main/Day_17.ipynb\" target=\"_parent\"><img src=\"https://colab.research.google.com/assets/colab-badge.svg\" alt=\"Open In Colab\"/></a>"
      ]
    },
    {
      "cell_type": "markdown",
      "metadata": {
        "id": "6W7uw8sFctPy"
      },
      "source": [
        "Regular Expressions(regexes"
      ]
    },
    {
      "cell_type": "code",
      "metadata": {
        "colab": {
          "base_uri": "https://localhost:8080/"
        },
        "id": "8LAnh42ccfFA",
        "outputId": "9d18581f-f58f-46b2-db87-7aeab1c20166"
      },
      "source": [
        "s = 'ball34combar'\n",
        "print('34' in s)"
      ],
      "execution_count": null,
      "outputs": [
        {
          "output_type": "stream",
          "name": "stdout",
          "text": [
            "True\n"
          ]
        }
      ]
    },
    {
      "cell_type": "markdown",
      "metadata": {
        "id": "w0PoTd7zdt4g"
      },
      "source": [
        "re module"
      ]
    },
    {
      "cell_type": "code",
      "metadata": {
        "colab": {
          "base_uri": "https://localhost:8080/"
        },
        "id": "BYOD6w6zdtHB",
        "outputId": "15c98ffe-35ca-4552-d7b6-0628ac7684d1"
      },
      "source": [
        "#importing re\n",
        "import re\n",
        "\n",
        "s = 'ball34combar'\n",
        "print(re.search('34',s))\n",
        "\n",
        "if re.search('34', s):\n",
        "  print('Match')\n",
        "else:\n",
        "  print('No Match')"
      ],
      "execution_count": null,
      "outputs": [
        {
          "output_type": "stream",
          "name": "stdout",
          "text": [
            "<re.Match object; span=(4, 6), match='34'>\n",
            "Match\n"
          ]
        }
      ]
    },
    {
      "cell_type": "markdown",
      "metadata": {
        "id": "HTdribxag1Ud"
      },
      "source": [
        "metacharacter"
      ]
    },
    {
      "cell_type": "code",
      "metadata": {
        "colab": {
          "base_uri": "https://localhost:8080/"
        },
        "id": "bXWEmQq7gBvH",
        "outputId": "92949146-f3ac-4384-9b97-3392bba2dec6"
      },
      "source": [
        "#search for digit bwn 0-9 in the string\n",
        "s = 'ball134combar'\n",
        "t = re.search('[0-9][0-9][0-9]', s)\n",
        "print(t)"
      ],
      "execution_count": null,
      "outputs": [
        {
          "output_type": "stream",
          "name": "stdout",
          "text": [
            "<re.Match object; span=(4, 7), match='134'>\n"
          ]
        }
      ]
    },
    {
      "cell_type": "code",
      "metadata": {
        "colab": {
          "base_uri": "https://localhost:8080/"
        },
        "id": "D3DuUqIqh3bM",
        "outputId": "f2d09a9b-dcb9-4110-bbf8-d627a6ed08db"
      },
      "source": [
        "#[] metaxter once it see a first match it takes it without the other even if it matches\n",
        "d = 'olivian237bdabilimile11'\n",
        "print(re.search('olivi[ian]', d))\n",
        "print(re.search('[0-9][0-9][0-9]', d))\n",
        "print(re.search('[a-z]', d))"
      ],
      "execution_count": null,
      "outputs": [
        {
          "output_type": "stream",
          "name": "stdout",
          "text": [
            "<re.Match object; span=(0, 6), match='olivia'>\n",
            "<re.Match object; span=(7, 10), match='237'>\n",
            "<re.Match object; span=(0, 1), match='o'>\n"
          ]
        }
      ]
    },
    {
      "cell_type": "code",
      "metadata": {
        "colab": {
          "base_uri": "https://localhost:8080/"
        },
        "id": "IbyGl1Cwkd4G",
        "outputId": "4ff08198-d825-4694-e7b3-541aa75e0874"
      },
      "source": [
        "# . metaxter matches any single xter except a newline\n",
        "c = 'ball1com'\n",
        "print(re.search('ball.com', c))\n",
        "print(re.search('ball.com', 'ballcom'))\n",
        "\n"
      ],
      "execution_count": null,
      "outputs": [
        {
          "output_type": "stream",
          "name": "stdout",
          "text": [
            "<re.Match object; span=(0, 8), match='ball1com'>\n",
            "None\n"
          ]
        }
      ]
    },
    {
      "cell_type": "code",
      "metadata": {
        "colab": {
          "base_uri": "https://localhost:8080/"
        },
        "id": "lU-U0DPIlxCM",
        "outputId": "7dbabd4a-f63e-44a3-811a-fcfc6df7fc64"
      },
      "source": [
        "#\\w metaxter or [a-zA-Z0-9_] matches any alphanumeric word character\n",
        "print(re.search('\\w', '#(.a$@&'))\n",
        "#equivalent\n",
        "print(re.search('[a-zA-Z0-9_]', '#(.a$@&'))\n",
        "#no match \n",
        "print('No match :', re.search('\\w', '#(.$@&'))\n",
        "\n",
        "print('Here is for non-word')\n",
        "#\\W or [^a-zA-Z0-9_] matches any non-word character\n",
        "print(re.search('\\W', 'a_1*3Qb'))\n",
        "#equivalent\n",
        "print(re.search('[^a-zA-Z0-9_]', 'a_1*3Qb'))"
      ],
      "execution_count": null,
      "outputs": [
        {
          "output_type": "stream",
          "name": "stdout",
          "text": [
            "<re.Match object; span=(3, 4), match='a'>\n",
            "<re.Match object; span=(3, 4), match='a'>\n",
            "No match : None\n",
            "Here is for non-word\n",
            "<re.Match object; span=(3, 4), match='*'>\n",
            "<re.Match object; span=(3, 4), match='*'>\n"
          ]
        }
      ]
    },
    {
      "cell_type": "code",
      "metadata": {
        "colab": {
          "base_uri": "https://localhost:8080/"
        },
        "id": "Pe6YWFEwngxJ",
        "outputId": "230e6f57-6ab3-4ed2-afc6-6872d860122c"
      },
      "source": [
        "#\\d metaxter matches decimaldigit xter \n",
        "print(re.search('\\d', 'abc6def'))\n",
        "#\\D matches any character that isn’t a decimal digit\n",
        "print(re.search('\\D', '12346def'))"
      ],
      "execution_count": null,
      "outputs": [
        {
          "output_type": "stream",
          "name": "stdout",
          "text": [
            "<re.Match object; span=(3, 4), match='6'>\n",
            "<re.Match object; span=(5, 6), match='d'>\n"
          ]
        }
      ]
    },
    {
      "cell_type": "code",
      "metadata": {
        "colab": {
          "base_uri": "https://localhost:8080/"
        },
        "id": "ZRGy715FpFDf",
        "outputId": "66a89980-3cfa-418d-a19e-29c978fb1b5a"
      },
      "source": [
        "#\\s matches any whitespace character\n",
        "print(re.search('\\s', 'foo\\nbar baz'))\n",
        "#\\S matches any character that isn’t whitespace\n",
        "print(re.search('\\S', '  \\n foo  \\n  '))"
      ],
      "execution_count": null,
      "outputs": [
        {
          "output_type": "stream",
          "name": "stdout",
          "text": [
            "<re.Match object; span=(3, 4), match='\\n'>\n",
            "<re.Match object; span=(4, 5), match='f'>\n"
          ]
        }
      ]
    },
    {
      "cell_type": "code",
      "metadata": {
        "colab": {
          "base_uri": "https://localhost:8080/"
        },
        "id": "5LbtQSx3qZCP",
        "outputId": "f7aa767f-8e92-42aa-e7f6-bd1de385041a"
      },
      "source": [
        "#combined\n",
        "print(re.search('[\\d\\w\\s]', '---3---'))\n",
        "print(re.search('[\\d\\w\\s]', '---a---'))\n",
        "print(re.search('[\\d\\w\\s]', '--- ---'))"
      ],
      "execution_count": null,
      "outputs": [
        {
          "output_type": "stream",
          "name": "stdout",
          "text": [
            "<re.Match object; span=(3, 4), match='3'>\n",
            "<re.Match object; span=(3, 4), match='a'>\n",
            "<re.Match object; span=(3, 4), match=' '>\n"
          ]
        }
      ]
    },
    {
      "cell_type": "code",
      "metadata": {
        "colab": {
          "base_uri": "https://localhost:8080/"
        },
        "id": "qcPGmFsiq6-2",
        "outputId": "119579ed-9c4a-47e8-a5c7-30507318a6ba"
      },
      "source": [
        "#escaping metacharacter using backslash\n",
        "print(re.search('.', 'foo.bar'))\n",
        "#removing\n",
        "print(re.search('\\.', 'foo.bar'))\n"
      ],
      "execution_count": null,
      "outputs": [
        {
          "output_type": "stream",
          "name": "stdout",
          "text": [
            "<re.Match object; span=(0, 1), match='f'>\n",
            "<re.Match object; span=(3, 4), match='.'>\n"
          ]
        }
      ]
    },
    {
      "cell_type": "markdown",
      "metadata": {
        "id": "2DSO0bBdINeU"
      },
      "source": [
        "Anchors dictates a particular location in the search string where a match must occur"
      ]
    },
    {
      "cell_type": "code",
      "metadata": {
        "colab": {
          "base_uri": "https://localhost:8080/"
        },
        "id": "LYYuOY_Usjgb",
        "outputId": "af3640d3-5242-4cdf-ccf9-7cb80491cc37"
      },
      "source": [
        "#^ or \\A the string should begin with that word\n",
        "print(re.search('^foo', 'foobar'))\n",
        "print(re.search('^oli', 'foobaroli'))\n",
        "print(re.search('\\Afoo', 'foobar'))\n",
        "print(re.search('\\Aoli', 'foobaroli'))"
      ],
      "execution_count": null,
      "outputs": [
        {
          "output_type": "stream",
          "name": "stdout",
          "text": [
            "<re.Match object; span=(0, 3), match='foo'>\n",
            "None\n",
            "<re.Match object; span=(0, 3), match='foo'>\n",
            "None\n"
          ]
        }
      ]
    },
    {
      "cell_type": "code",
      "metadata": {
        "colab": {
          "base_uri": "https://localhost:8080/"
        },
        "id": "Yb6IOkZitquc",
        "outputId": "dc5391fa-3354-4ffb-af29-93425b3193fa"
      },
      "source": [
        "# $ or \\Z the string should be at the end of that word\n",
        "print(re.search('bar$', 'foobar'))\n",
        "print(re.search('bar$', 'barfoo'))\n",
        "print('with \\Z')\n",
        "print(re.search('bar\\Z', 'foobar'))\n",
        "print(re.search('bar\\Z', 'barfoo'))"
      ],
      "execution_count": null,
      "outputs": [
        {
          "output_type": "stream",
          "name": "stdout",
          "text": [
            "<re.Match object; span=(3, 6), match='bar'>\n",
            "None\n",
            "with \\Z\n",
            "<re.Match object; span=(3, 6), match='bar'>\n",
            "None\n"
          ]
        }
      ]
    },
    {
      "cell_type": "code",
      "metadata": {
        "id": "PU3SzcMNuZEY",
        "colab": {
          "base_uri": "https://localhost:8080/"
        },
        "outputId": "9ca67f8e-be93-421a-8200-02f3749637c2"
      },
      "source": [
        "#\\b  match to a location that is a word boundary.or \\B match to a location that isn’t a word boundary\n",
        "import re\n",
        "# \\b\n",
        "print(re.search(r'\\bbar', 'foo bar scl'))\n",
        "print(re.search(r'bar\\b', 'foo bar scl'))\n",
        "\n",
        "print('For \\B')\n",
        "print(re.search(r'\\Bscl\\B', ' foo bar scl foo'))\n",
        "print(re.search(r'\\Bscl\\B', ' foobarsclfoo'))"
      ],
      "execution_count": null,
      "outputs": [
        {
          "output_type": "stream",
          "name": "stdout",
          "text": [
            "<re.Match object; span=(4, 7), match='bar'>\n",
            "<re.Match object; span=(4, 7), match='bar'>\n",
            "For \\B\n",
            "None\n",
            "<re.Match object; span=(7, 10), match='scl'>\n"
          ]
        }
      ]
    },
    {
      "cell_type": "markdown",
      "metadata": {
        "id": "SCIQzjyrIgaM"
      },
      "source": [
        "Quatifiers indicates how many times that portion must occur for the match to succeed."
      ]
    },
    {
      "cell_type": "markdown",
      "metadata": {
        "id": "RXz1SqdcM1ao"
      },
      "source": [
        "Greedy "
      ]
    },
    {
      "cell_type": "code",
      "metadata": {
        "colab": {
          "base_uri": "https://localhost:8080/"
        },
        "id": "Uat5UXfAIe1R",
        "outputId": "bf8a99dd-679d-4ba8-fbde-33b4e2f804a5"
      },
      "source": [
        "# * Matches zero or more repetitions of the preceding regex\n",
        "print(re.search('foo-*bar', 'foobar'))\n",
        "print(re.search('foo-*bar', 'foo--bar') )"
      ],
      "execution_count": null,
      "outputs": [
        {
          "output_type": "stream",
          "name": "stdout",
          "text": [
            "<re.Match object; span=(0, 6), match='foobar'>\n",
            "<re.Match object; span=(0, 8), match='foo--bar'>\n"
          ]
        }
      ]
    },
    {
      "cell_type": "code",
      "metadata": {
        "colab": {
          "base_uri": "https://localhost:8080/"
        },
        "id": "XxjpUVN7J4xr",
        "outputId": "9d97e56b-7432-4c9f-da6e-bac838a3cc74"
      },
      "source": [
        "# + Matches one or more repetitions of the preceding regex\n",
        "print(re.search('foo-+bar', 'foobar'))\n",
        "print(re.search('foo-+bar', 'foo-bar'))\n",
        "print(re.search('foo-+bar', 'foo--bar'))"
      ],
      "execution_count": null,
      "outputs": [
        {
          "output_type": "stream",
          "name": "stdout",
          "text": [
            "None\n",
            "<re.Match object; span=(0, 7), match='foo-bar'>\n",
            "<re.Match object; span=(0, 8), match='foo--bar'>\n"
          ]
        }
      ]
    },
    {
      "cell_type": "code",
      "metadata": {
        "colab": {
          "base_uri": "https://localhost:8080/"
        },
        "id": "FicnCLfBKbYb",
        "outputId": "83cf098c-6592-456b-c005-9a80e101241c"
      },
      "source": [
        "# ? Matches zero or one repetitions of the preceding regex.\n",
        "#for zero case\n",
        "print(re.search('foo-?bar', 'foobar'))\n",
        "#for the one case\n",
        "print(re.search('foo-?bar', 'foo-bar'))\n",
        "#for the more than ine case\n",
        "print(re.search('foo-?bar', 'foo--bar'))"
      ],
      "execution_count": null,
      "outputs": [
        {
          "output_type": "stream",
          "name": "stdout",
          "text": [
            "<re.Match object; span=(0, 6), match='foobar'>\n",
            "<re.Match object; span=(0, 7), match='foo-bar'>\n",
            "None\n"
          ]
        }
      ]
    },
    {
      "cell_type": "code",
      "metadata": {
        "colab": {
          "base_uri": "https://localhost:8080/"
        },
        "id": "gp11O_yRLaVB",
        "outputId": "deb4a012-dc0b-414b-cb25-eebd37fbfd40"
      },
      "source": [
        "#combined quantifiers\n",
        "print(re.match('foo[1-9]*bar', 'foobar'))\n",
        "print(re.match('foo[1-9]*bar', 'foo42bar'))\n",
        "print(re.match('foo[1-9]+bar', 'foobar'))\n",
        "print(re.match('foo[1-9]+bar', 'foo42bar'))\n",
        "print(re.match('foo[1-9]?bar', 'foobar'))\n",
        "print(re.match('foo[1-9]?bar', 'foo42bar'))"
      ],
      "execution_count": null,
      "outputs": [
        {
          "output_type": "stream",
          "name": "stdout",
          "text": [
            "<re.Match object; span=(0, 6), match='foobar'>\n",
            "<re.Match object; span=(0, 8), match='foo42bar'>\n",
            "None\n",
            "<re.Match object; span=(0, 8), match='foo42bar'>\n",
            "<re.Match object; span=(0, 6), match='foobar'>\n",
            "None\n"
          ]
        }
      ]
    },
    {
      "cell_type": "markdown",
      "metadata": {
        "id": "ebsrCVfaM7yG"
      },
      "source": [
        "Non-greedy any quantifier with the ? at its end ie *?, +?, ?? "
      ]
    },
    {
      "cell_type": "code",
      "metadata": {
        "colab": {
          "base_uri": "https://localhost:8080/"
        },
        "id": "ZVqtpFsdM6lt",
        "outputId": "557c1bcd-3b44-4935-b24f-81648cf9e178"
      },
      "source": [
        "#A '<' character Then any sequence of characters Then a '>' character\n",
        "print(re.search('<.*>', '%<foo> <bar> <baz>%'))\n",
        "#to get the shortest match we use *?\n",
        "print(re.search('<.*?>', '%<foo> <bar> <baz>%'))\n",
        "print(re.search('<.+>', '%<foo> <bar> <baz>%'))\n",
        "print(re.search('<.+?>', '%<foo> <bar> <baz>%'))\n",
        "print(re.search('ba?', 'baaaa'))\n",
        "print(re.search('ba??', 'baaaa'))"
      ],
      "execution_count": null,
      "outputs": [
        {
          "output_type": "stream",
          "name": "stdout",
          "text": [
            "<re.Match object; span=(1, 18), match='<foo> <bar> <baz>'>\n",
            "<re.Match object; span=(1, 6), match='<foo>'>\n",
            "<re.Match object; span=(1, 18), match='<foo> <bar> <baz>'>\n",
            "<re.Match object; span=(1, 6), match='<foo>'>\n",
            "<re.Match object; span=(0, 2), match='ba'>\n",
            "<re.Match object; span=(0, 1), match='b'>\n"
          ]
        }
      ]
    },
    {
      "cell_type": "code",
      "metadata": {
        "colab": {
          "base_uri": "https://localhost:8080/"
        },
        "id": "vOOMQOsOPl48",
        "outputId": "50df1542-b338-4f3b-f26c-4ac12c93f199"
      },
      "source": [
        "# {m} Matches exactly m repetitions of the preceding regex.\n",
        "print(re.search('x-{3}t', 'x---t'))\n",
        "#for less than 3 -\n",
        "print(re.search('x-{3}x', 'x--x'))\n",
        "#for exactly 3 -\n",
        "print(re.search('x-{3}x', 'x---x'))\n",
        "#for more than 3\n",
        "print(re.search('x-{3}x', 'x----x'))"
      ],
      "execution_count": null,
      "outputs": [
        {
          "output_type": "stream",
          "name": "stdout",
          "text": [
            "<re.Match object; span=(0, 5), match='x---t'>\n",
            "None\n",
            "<re.Match object; span=(0, 5), match='x---x'>\n",
            "None\n"
          ]
        }
      ]
    },
    {
      "cell_type": "code",
      "metadata": {
        "colab": {
          "base_uri": "https://localhost:8080/"
        },
        "id": "XMDLDhkYQQHu",
        "outputId": "60b493bf-d3d4-4d35-b737-0dd1b18fdc23"
      },
      "source": [
        "# {m,n} Matches any number of\n",
        "#repetitions of the preceding regex from m to n, inclusive.\n",
        "for i in range(1, 6):\n",
        "  s = f\"x{'-' * i}x\"\n",
        "  print(f'{i}  {s:10}', re.search('x-{2,4}x', s))"
      ],
      "execution_count": null,
      "outputs": [
        {
          "output_type": "stream",
          "name": "stdout",
          "text": [
            "1  x-x        None\n",
            "2  x--x       <re.Match object; span=(0, 4), match='x--x'>\n",
            "3  x---x      <re.Match object; span=(0, 5), match='x---x'>\n",
            "4  x----x     <re.Match object; span=(0, 6), match='x----x'>\n",
            "5  x-----x    None\n"
          ]
        }
      ]
    },
    {
      "cell_type": "code",
      "metadata": {
        "colab": {
          "base_uri": "https://localhost:8080/"
        },
        "id": "XiNYCwcLRZRr",
        "outputId": "79425e2b-21fe-4f20-f5c1-0c48a08954c1"
      },
      "source": [
        "#greedy {m,n}\n",
        "import re\n",
        "print(re.search('a{3,5}', 'aaaaaaaa'))\n",
        "#non-greedy {m,n}\n",
        "print(re.search('a{3,5}?', 'aaaaaaaa'))\n"
      ],
      "execution_count": 2,
      "outputs": [
        {
          "output_type": "stream",
          "name": "stdout",
          "text": [
            "<re.Match object; span=(0, 5), match='aaaaa'>\n",
            "<re.Match object; span=(0, 3), match='aaa'>\n"
          ]
        }
      ]
    },
    {
      "cell_type": "markdown",
      "metadata": {
        "id": "Kt55xSu5g4kD"
      },
      "source": [
        "Grouping"
      ]
    },
    {
      "cell_type": "code",
      "metadata": {
        "colab": {
          "base_uri": "https://localhost:8080/"
        },
        "id": "JW__pa4Ee9ZX",
        "outputId": "b0e2cbf1-75d2-4ba2-eeb3-19637d3468f2"
      },
      "source": [
        " re.search('(foo(bar)?)+(\\d\\d\\d)?', 'foofoobar')"
      ],
      "execution_count": 4,
      "outputs": [
        {
          "output_type": "execute_result",
          "data": {
            "text/plain": [
              "<re.Match object; span=(0, 9), match='foofoobar'>"
            ]
          },
          "metadata": {},
          "execution_count": 4
        }
      ]
    },
    {
      "cell_type": "code",
      "metadata": {
        "colab": {
          "base_uri": "https://localhost:8080/"
        },
        "id": "LPZ_yvpXhLod",
        "outputId": "934e7552-cd96-48a5-dffc-1c2c6a58aad5"
      },
      "source": [
        "#m.groups Returns a tuple containing all the captured groups from a regex match.\n",
        "m = re.search('(\\w+),(\\w+),(\\w+)', 'foo,quux,baz')\n",
        "print(m.groups())\n",
        "print(m.group(1))\n",
        "print(m.group(3, 2, 1))"
      ],
      "execution_count": 9,
      "outputs": [
        {
          "output_type": "stream",
          "name": "stdout",
          "text": [
            "('foo', 'quux', 'baz')\n",
            "foo\n",
            "('baz', 'quux', 'foo')\n"
          ]
        }
      ]
    },
    {
      "cell_type": "markdown",
      "metadata": {
        "id": "zVkVFkdDiqmL"
      },
      "source": [
        "Backreference"
      ]
    },
    {
      "cell_type": "code",
      "metadata": {
        "colab": {
          "base_uri": "https://localhost:8080/"
        },
        "id": "XX9paQMmiAX1",
        "outputId": "c1874d0a-f469-47d2-87a8-ae3b8b1ab6f2"
      },
      "source": [
        "regex = r'(\\w+),\\1'\n",
        "\n",
        "m = re.search(regex, 'foo,foo')\n",
        "print(m)\n",
        "\n",
        "print(m.group(1))\n",
        "\n",
        "\n",
        "m = re.search(regex, 'qux,qux')\n",
        "print(m)\n",
        "\n",
        "\n",
        "print(m.group(1))\n",
        "\n",
        "#produce a none since the word after isn't the same\n",
        "m = re.search(regex, 'foo,qux')\n",
        "print(m)\n"
      ],
      "execution_count": 10,
      "outputs": [
        {
          "output_type": "stream",
          "name": "stdout",
          "text": [
            "<re.Match object; span=(0, 7), match='foo,foo'>\n",
            "foo\n",
            "<re.Match object; span=(0, 7), match='qux,qux'>\n",
            "qux\n",
            "None\n"
          ]
        }
      ]
    },
    {
      "cell_type": "code",
      "metadata": {
        "colab": {
          "base_uri": "https://localhost:8080/"
        },
        "id": "yqE_UgYokOxv",
        "outputId": "38ce7caf-b237-4e84-9198-c5336ac2de9a"
      },
      "source": [
        "# ?# ignores anything after it\n",
        "print(re.search('bar(?#This is a comment) *baz', 'foo bar baz qux'))\n",
        "#vertical bar | Specifies a set of alternatives on which to match.\n",
        "print(re.search('foo|bar|baz', 'baz'))"
      ],
      "execution_count": 13,
      "outputs": [
        {
          "output_type": "stream",
          "name": "stdout",
          "text": [
            "<re.Match object; span=(4, 11), match='bar baz'>\n",
            "<re.Match object; span=(0, 3), match='baz'>\n"
          ]
        }
      ]
    },
    {
      "cell_type": "markdown",
      "metadata": {
        "id": "byV5ivXXmDfP"
      },
      "source": [
        "Flags"
      ]
    },
    {
      "cell_type": "code",
      "metadata": {
        "colab": {
          "base_uri": "https://localhost:8080/"
        },
        "id": "XCLuHN-zlrhF",
        "outputId": "713c1187-b5b9-4bfe-cb12-beb965cae5ff"
      },
      "source": [
        "#re.I Makes matching case insensitive.\n",
        "#without the re.I\n",
        "print(re.search('A+', 'aaaAAA'))\n",
        "print(re.search('a+', 'aaaAAA'))\n",
        "print(re.search('[a-z]+', 'aBcDeF'))\n",
        "print('   ')\n",
        "#with the re.I\n",
        "print('Matches all')\n",
        "print('   ')\n",
        "print(re.search('A+', 'aaaAAA', re.I))\n",
        "print(re.search('a+', 'aaaAAA', re.I))\n",
        "print(re.search('[a-z]+', 'aBcDeF', re.I))"
      ],
      "execution_count": 17,
      "outputs": [
        {
          "output_type": "stream",
          "name": "stdout",
          "text": [
            "<re.Match object; span=(3, 6), match='AAA'>\n",
            "<re.Match object; span=(0, 3), match='aaa'>\n",
            "<re.Match object; span=(0, 1), match='a'>\n",
            "   \n",
            "Matches all\n",
            "   \n",
            "<re.Match object; span=(0, 6), match='aaaAAA'>\n",
            "<re.Match object; span=(0, 6), match='aaaAAA'>\n",
            "<re.Match object; span=(0, 6), match='aBcDeF'>\n"
          ]
        }
      ]
    },
    {
      "cell_type": "code",
      "metadata": {
        "id": "SSVjlmDDnF02"
      },
      "source": [
        ""
      ],
      "execution_count": null,
      "outputs": []
    }
  ]
}