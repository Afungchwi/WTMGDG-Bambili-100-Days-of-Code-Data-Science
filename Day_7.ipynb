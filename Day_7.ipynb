{
  "nbformat": 4,
  "nbformat_minor": 0,
  "metadata": {
    "colab": {
      "name": "Day 7.ipynb",
      "provenance": [],
      "collapsed_sections": [],
      "authorship_tag": "ABX9TyOPrbS4WdKV8/2hhKx5Aq1R",
      "include_colab_link": true
    },
    "kernelspec": {
      "name": "python3",
      "display_name": "Python 3"
    },
    "language_info": {
      "name": "python"
    }
  },
  "cells": [
    {
      "cell_type": "markdown",
      "metadata": {
        "id": "view-in-github",
        "colab_type": "text"
      },
      "source": [
        "<a href=\"https://colab.research.google.com/github/Afungchwi/WTMGDG-Bambili-100-Days-of-Code-Data-Science/blob/main/Day_7.ipynb\" target=\"_parent\"><img src=\"https://colab.research.google.com/assets/colab-badge.svg\" alt=\"Open In Colab\"/></a>"
      ]
    },
    {
      "cell_type": "markdown",
      "metadata": {
        "id": "NncZc9h4HfO7"
      },
      "source": [
        "Dictionary"
      ]
    },
    {
      "cell_type": "code",
      "metadata": {
        "colab": {
          "base_uri": "https://localhost:8080/"
        },
        "id": "oQwPN43eDsHQ",
        "outputId": "5844ce0c-32bd-444e-c557-82d772392bbb"
      },
      "source": [
        "oli = dict(\n",
        "                Farm = 'Food',\n",
        "                House = 'Cook',\n",
        "                Church = 'Prayer',\n",
        "                School = 'Learn',\n",
        "                Game = 'Playing',\n",
        "                Play = 'Volleyball'\n",
        ")\n",
        "print(type(oli))\n",
        "print(oli)\n"
      ],
      "execution_count": 1,
      "outputs": [
        {
          "output_type": "stream",
          "name": "stdout",
          "text": [
            "<class 'dict'>\n",
            "{'Farm': 'Food', 'House': 'Cook', 'Church': 'Prayer', 'School': 'Learn', 'Game': 'Playing', 'Play': 'Volleyball'}\n"
          ]
        }
      ]
    },
    {
      "cell_type": "markdown",
      "metadata": {
        "id": "d6LYzgP5urj4"
      },
      "source": [
        "Accessing a value of a dictionary with it's key"
      ]
    },
    {
      "cell_type": "code",
      "metadata": {
        "colab": {
          "base_uri": "https://localhost:8080/",
          "height": 214
        },
        "id": "qWno51nFuqAu",
        "outputId": "267f7329-fc2d-4a36-a9be-5f755b983306"
      },
      "source": [
        "#access the value of a dict with key\n",
        "print(oli['Farm'])\n",
        "#access the value of a dict with key which is not avialabe throw an exceptio\n",
        "print(oli['Oli'])"
      ],
      "execution_count": 4,
      "outputs": [
        {
          "output_type": "stream",
          "name": "stdout",
          "text": [
            "Food\n"
          ]
        },
        {
          "output_type": "error",
          "ename": "KeyError",
          "evalue": "ignored",
          "traceback": [
            "\u001b[0;31m---------------------------------------------------------------------------\u001b[0m",
            "\u001b[0;31mKeyError\u001b[0m                                  Traceback (most recent call last)",
            "\u001b[0;32m<ipython-input-4-171f159f9850>\u001b[0m in \u001b[0;36m<module>\u001b[0;34m()\u001b[0m\n\u001b[1;32m      2\u001b[0m \u001b[0mprint\u001b[0m\u001b[0;34m(\u001b[0m\u001b[0moli\u001b[0m\u001b[0;34m[\u001b[0m\u001b[0;34m'Farm'\u001b[0m\u001b[0;34m]\u001b[0m\u001b[0;34m)\u001b[0m\u001b[0;34m\u001b[0m\u001b[0;34m\u001b[0m\u001b[0m\n\u001b[1;32m      3\u001b[0m \u001b[0;31m#access the value of a dict with key which is not avialabe throw an exceptio\u001b[0m\u001b[0;34m\u001b[0m\u001b[0;34m\u001b[0m\u001b[0;34m\u001b[0m\u001b[0m\n\u001b[0;32m----> 4\u001b[0;31m \u001b[0mprint\u001b[0m\u001b[0;34m(\u001b[0m\u001b[0moli\u001b[0m\u001b[0;34m[\u001b[0m\u001b[0;34m'Oli'\u001b[0m\u001b[0;34m]\u001b[0m\u001b[0;34m)\u001b[0m\u001b[0;34m\u001b[0m\u001b[0;34m\u001b[0m\u001b[0m\n\u001b[0m",
            "\u001b[0;31mKeyError\u001b[0m: 'Oli'"
          ]
        }
      ]
    },
    {
      "cell_type": "code",
      "metadata": {
        "colab": {
          "base_uri": "https://localhost:8080/"
        },
        "id": "fLswqt6wwbAX",
        "outputId": "eca8ca07-157b-4d5c-e14f-aef06f0f6990"
      },
      "source": [
        "#Adding an entry to a dict\n",
        "d = oli['Name'] = 'Livian'\n",
        "print(oli)"
      ],
      "execution_count": 9,
      "outputs": [
        {
          "output_type": "stream",
          "name": "stdout",
          "text": [
            "{'Farm': 'Food', 'House': 'Cook', 'Church': 'Prayer', 'School': 'Learn', 'Game': 'Playing', 'Play': 'Volleyball', 'Name': 'Livian'}\n"
          ]
        }
      ]
    },
    {
      "cell_type": "code",
      "metadata": {
        "colab": {
          "base_uri": "https://localhost:8080/"
        },
        "id": "VCz4SYzYx_z-",
        "outputId": "71321d49-0a17-495e-c588-46c384baba80"
      },
      "source": [
        "#updating an entry in a dict\n",
        "#updating the value of the key 'Game' from Volleyball to Tennis\n",
        "d1 = oli['Game'] = 'Tennis'\n",
        "print(oli)"
      ],
      "execution_count": 11,
      "outputs": [
        {
          "output_type": "stream",
          "name": "stdout",
          "text": [
            "{'Farm': 'Food', 'House': 'Cook', 'Church': 'Prayer', 'School': 'Learn', 'Game': 'Tennis', 'Play': 'Volleyball', 'Name': 'Livian'}\n"
          ]
        }
      ]
    },
    {
      "cell_type": "code",
      "metadata": {
        "id": "v0jluhdQzh3K"
      },
      "source": [
        "#deleting an entry in  a dict\n",
        "del oli['School']\n",
        "print(oli)"
      ],
      "execution_count": null,
      "outputs": []
    },
    {
      "cell_type": "code",
      "metadata": {
        "colab": {
          "base_uri": "https://localhost:8080/"
        },
        "id": "DeH3R4Iw3gZl",
        "outputId": "d0d3bad4-0652-4340-d7e3-f61760f951de"
      },
      "source": [
        "#creating a dict with {} braces \n",
        "person = {}\n",
        "print(type(person))\n",
        "person['Firstname'] = 'Olivian'\n",
        "person['Lastname'] = 'Afungchwi'\n",
        "person['Age'] = 24\n",
        "person['Occupation'] = 'Student'\n",
        "person['Nationality'] = 'Cameroonian'\n",
        "#assigning a list to an entry in a dict\n",
        "person['Familymember'] = ['Yve', 'Bety', 'Lin', 'Napo', 'Tracy']\n",
        "#assigning a dict to an entry in a dict\n",
        "person['Animals'] = {'Pig': 'Booster', 'Dog': 'Scooby-doo', 'Cat':'Rex', 'Fowl':'Henny'}\n",
        "print(person)\n",
        "#accessing the element of the sublist with index\n",
        "print(person['Familymember'][1:4])\n",
        "print(person['Familymember'][4])\n",
        "#accessing the element of the subdict with key\n",
        "print(person['Animals']['Dog'])"
      ],
      "execution_count": 22,
      "outputs": [
        {
          "output_type": "stream",
          "name": "stdout",
          "text": [
            "<class 'dict'>\n",
            "{'Firstname': 'Olivian', 'Lastname': 'Afungchwi', 'Age': 24, 'Occupation': 'Student', 'Nationality': 'Cameroonian', 'Familymember': ['Yve', 'Bety', 'Lin', 'Napo', 'Tracy'], 'Animals': {'Pig': 'Booster', 'Dog': 'Scooby-doo', 'Cat': 'Rex', 'Fowl': 'Henny'}}\n",
            "['Bety', 'Lin', 'Napo']\n",
            "Tracy\n",
            "Scooby-doo\n"
          ]
        }
      ]
    },
    {
      "cell_type": "code",
      "metadata": {
        "id": "yG61IjdC8X5C",
        "outputId": "fd87b649-d5f8-43e2-f847-e0c88faa20f5",
        "colab": {
          "base_uri": "https://localhost:8080/"
        }
      },
      "source": [
        "#operation on dict value\n",
        "#in and not in returns a boolean if the statement if fulfilled \n",
        "print('Age' in person)\n",
        "print('people' in person)\n",
        "print('people' not in person)\n",
        "print(len(person))"
      ],
      "execution_count": 28,
      "outputs": [
        {
          "output_type": "stream",
          "name": "stdout",
          "text": [
            "True\n",
            "False\n",
            "True\n",
            "7\n"
          ]
        }
      ]
    },
    {
      "cell_type": "code",
      "metadata": {
        "id": "vLxz5jfCB1_h",
        "outputId": "ddfe4e16-34d8-427d-9ba0-20eb5e12e629",
        "colab": {
          "base_uri": "https://localhost:8080/"
        }
      },
      "source": [
        "#built-in methods in dict\n",
        "De = dict(\n",
        "                Farm = 'Food',\n",
        "                House = 'Cook',\n",
        "                Church = 'Prayer',\n",
        "                School = 'Learn',)\n",
        "print(De)\n",
        "#print(De.clear())\n",
        "de1 = dict(Firstname = 'Olivian', Lastname= 'Afungchwi', Age= 24)\n",
        "print(de1)\n",
        "#use of get method\n",
        "print(de1.get('Age'))\n",
        "#.item method returns a tuple with the first elt the key and the second the value\n",
        "print(list(de1.items()))\n",
        "#keys give all the keys in the dict\n",
        "print(list(de1.keys()))\n",
        "#value give all the value of keys in the dict even if the value of diff keys are the same it still prints it out\n",
        "print(list(de1.values()))\n",
        "#pop method delete an entry inthe dict\n",
        "print(de1.pop('Firstname'))"
      ],
      "execution_count": 40,
      "outputs": [
        {
          "output_type": "stream",
          "name": "stdout",
          "text": [
            "{'Farm': 'Food', 'House': 'Cook', 'Church': 'Prayer', 'School': 'Learn'}\n",
            "{'Firstname': 'Olivian', 'Lastname': 'Afungchwi', 'Age': 24}\n",
            "24\n",
            "[('Firstname', 'Olivian'), ('Lastname', 'Afungchwi'), ('Age', 24)]\n",
            "['Firstname', 'Lastname', 'Age']\n",
            "['Olivian', 'Afungchwi', 24]\n",
            "Olivian\n"
          ]
        }
      ]
    },
    {
      "cell_type": "code",
      "metadata": {
        "id": "cGQVD_vlGR_e",
        "outputId": "948edd18-c4b5-4a4a-af38-80ab28b3d0a6",
        "colab": {
          "base_uri": "https://localhost:8080/"
        }
      },
      "source": [
        "#popitem\n",
        "#removes the last key n value of the dict\n",
        "d2 = dict(Firstname = 'Olivian', Lastname= 'Afungchwi', Age= 24)\n",
        "print(d2.popitem())"
      ],
      "execution_count": 39,
      "outputs": [
        {
          "output_type": "stream",
          "name": "stdout",
          "text": [
            "('Age', 24)\n"
          ]
        }
      ]
    },
    {
      "cell_type": "code",
      "metadata": {
        "id": "W2PQYbD1HYss",
        "outputId": "a6d307a4-0457-4578-926b-1f3556304ec4",
        "colab": {
          "base_uri": "https://localhost:8080/"
        }
      },
      "source": [
        "d3 = {'a': 10, 'b': 20, 'c': 30}\n",
        "d4 = {'b': 200, 'd': 400}\n",
        "\n",
        "print(d3.update(d4))\n",
        "print(d3)"
      ],
      "execution_count": 42,
      "outputs": [
        {
          "output_type": "stream",
          "name": "stdout",
          "text": [
            "None\n",
            "{'a': 10, 'b': 200, 'c': 30, 'd': 400}\n"
          ]
        }
      ]
    }
  ]
}