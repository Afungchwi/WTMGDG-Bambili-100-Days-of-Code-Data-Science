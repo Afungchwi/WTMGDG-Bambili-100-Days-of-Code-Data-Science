{
  "nbformat": 4,
  "nbformat_minor": 0,
  "metadata": {
    "colab": {
      "name": "Day 9.ipynb",
      "provenance": [],
      "collapsed_sections": [],
      "authorship_tag": "ABX9TyOBfVhAKcSjJrXobe+BMYZ1",
      "include_colab_link": true
    },
    "kernelspec": {
      "name": "python3",
      "display_name": "Python 3"
    },
    "language_info": {
      "name": "python"
    }
  },
  "cells": [
    {
      "cell_type": "markdown",
      "metadata": {
        "id": "view-in-github",
        "colab_type": "text"
      },
      "source": [
        "<a href=\"https://colab.research.google.com/github/Afungchwi/WTMGDG-Bambili-100-Days-of-Code-Data-Science/blob/main/Day_9.ipynb\" target=\"_parent\"><img src=\"https://colab.research.google.com/assets/colab-badge.svg\" alt=\"Open In Colab\"/></a>"
      ]
    },
    {
      "cell_type": "markdown",
      "metadata": {
        "id": "hBku73rvmY8i"
      },
      "source": [
        "While loop"
      ]
    },
    {
      "cell_type": "code",
      "metadata": {
        "id": "Vr5Oj87BmM5g",
        "colab": {
          "base_uri": "https://localhost:8080/"
        },
        "outputId": "71f59737-6740-4eca-a8b9-63f1d6b8e0ee"
      },
      "source": [
        "n = 5\n",
        "while n > 0:\n",
        "  n -= 1\n",
        "  print (n)"
      ],
      "execution_count": 1,
      "outputs": [
        {
          "output_type": "stream",
          "name": "stdout",
          "text": [
            "4\n",
            "3\n",
            "2\n",
            "1\n",
            "0\n"
          ]
        }
      ]
    },
    {
      "cell_type": "code",
      "metadata": {
        "id": "_4FEXZrWoWXk",
        "colab": {
          "base_uri": "https://localhost:8080/"
        },
        "outputId": "1a801f27-7812-4d93-c936-8b204c584e73"
      },
      "source": [
        "#break\n",
        "#break stops immediately when it meets the condition \n",
        "n = 10\n",
        "while n > 0:\n",
        "  n -= 1\n",
        "  if n == 6:\n",
        "    break\n",
        "  print(n)\n",
        "print('Ended')\n",
        "print(\"for the break\")\n",
        "\n",
        "#continue\n",
        "#continue continues after it sees the condition\n",
        "n = 10\n",
        "while n > 0:\n",
        "  n -= 1\n",
        "  if n == 6:\n",
        "    continue\n",
        "  print(n)\n",
        "print('Ended')"
      ],
      "execution_count": 3,
      "outputs": [
        {
          "output_type": "stream",
          "name": "stdout",
          "text": [
            "9\n",
            "8\n",
            "7\n",
            "Ended\n",
            "for the break\n",
            "9\n",
            "8\n",
            "7\n",
            "5\n",
            "4\n",
            "3\n",
            "2\n",
            "1\n",
            "0\n",
            "Ended\n"
          ]
        }
      ]
    },
    {
      "cell_type": "markdown",
      "metadata": {
        "id": "RFSxyALNdOW7"
      },
      "source": [
        "break and continue"
      ]
    },
    {
      "cell_type": "markdown",
      "metadata": {
        "id": "6VAgsNe1jv9M"
      },
      "source": [
        "Nested if loop"
      ]
    },
    {
      "cell_type": "code",
      "metadata": {
        "colab": {
          "base_uri": "https://localhost:8080/"
        },
        "id": "QjAbr6MUhOh6",
        "outputId": "c88a489d-7352-4416-f9d1-2ac15e9c3b5e"
      },
      "source": [
        "age = 13\n",
        "gender = input('Enter your gender ex M for male and F for female : ')\n",
        "if age < 18:\n",
        "  if gender == 'M':\n",
        "    print('Son')\n",
        "  else:\n",
        "    print('Daughter')\n",
        "\n"
      ],
      "execution_count": 17,
      "outputs": [
        {
          "output_type": "stream",
          "name": "stdout",
          "text": [
            "Enter your gender ex M for male and F for female : M\n",
            "Son\n"
          ]
        }
      ]
    },
    {
      "cell_type": "markdown",
      "metadata": {
        "id": "l97_-Bihj9Zf"
      },
      "source": [
        "Nested while loop"
      ]
    },
    {
      "cell_type": "code",
      "metadata": {
        "colab": {
          "base_uri": "https://localhost:8080/"
        },
        "id": "c5K-5SdHj0K0",
        "outputId": "fbf731c6-cc8a-48a8-b1bd-0af09431e641"
      },
      "source": [
        "a = ['ball', 'hands', 'pot', 'cook']\n",
        "while len(a):\n",
        "  print (a.pop(0))\n",
        "  b = ['school', 'house', 'church']\n",
        "  while len(b):\n",
        "    print('>', b.pop(0))"
      ],
      "execution_count": 20,
      "outputs": [
        {
          "output_type": "stream",
          "name": "stdout",
          "text": [
            "ball\n",
            "> school\n",
            "> house\n",
            "> church\n",
            "hands\n",
            "> school\n",
            "> house\n",
            "> church\n",
            "pot\n",
            "> school\n",
            "> house\n",
            "> church\n",
            "cook\n",
            "> school\n",
            "> house\n",
            "> church\n"
          ]
        }
      ]
    },
    {
      "cell_type": "code",
      "metadata": {
        "id": "FYPJJnUJlaOp"
      },
      "source": [
        "# can't see the results of this cell\n",
        "time = 20\n",
        "while time > 20:\n",
        "  time -= 2\n",
        "  print(time)\n",
        "  while time == 10:\n",
        "    print('10Sec left')"
      ],
      "execution_count": 30,
      "outputs": []
    }
  ]
}