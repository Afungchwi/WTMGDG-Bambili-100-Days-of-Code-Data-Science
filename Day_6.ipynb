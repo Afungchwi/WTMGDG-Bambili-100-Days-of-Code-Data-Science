{
  "nbformat": 4,
  "nbformat_minor": 0,
  "metadata": {
    "colab": {
      "name": "Day 6.ipynb",
      "provenance": [],
      "authorship_tag": "ABX9TyPHaucaJOp0Cz7UTwRv+4yd",
      "include_colab_link": true
    },
    "kernelspec": {
      "name": "python3",
      "display_name": "Python 3"
    },
    "language_info": {
      "name": "python"
    }
  },
  "cells": [
    {
      "cell_type": "markdown",
      "metadata": {
        "id": "view-in-github",
        "colab_type": "text"
      },
      "source": [
        "<a href=\"https://colab.research.google.com/github/Afungchwi/WTMGDG-Bambili-100-Days-of-Code-Data-Science/blob/main/Day_6.ipynb\" target=\"_parent\"><img src=\"https://colab.research.google.com/assets/colab-badge.svg\" alt=\"Open In Colab\"/></a>"
      ]
    },
    {
      "cell_type": "code",
      "metadata": {
        "colab": {
          "base_uri": "https://localhost:8080/"
        },
        "id": "wow98lKEm-p7",
        "outputId": "824ac9e8-06b5-42d1-d356-e64715d5dbd7"
      },
      "source": [
        "set1 = set((\"bag\",\"shoe\",\"pen\"))\n",
        "print(set1)\n",
        "set2 = set((1,2,4,5,2,6,7,8,7,6,5,3,2,1,))\n",
        "print(set2)"
      ],
      "execution_count": 4,
      "outputs": [
        {
          "output_type": "stream",
          "name": "stdout",
          "text": [
            "{'shoe', 'pen', 'bag'}\n",
            "{1, 2, 3, 4, 5, 6, 7, 8}\n"
          ]
        }
      ]
    },
    {
      "cell_type": "code",
      "metadata": {
        "colab": {
          "base_uri": "https://localhost:8080/"
        },
        "id": "FvQ3n0_nnwAP",
        "outputId": "0e66b44b-829e-41fe-8229-09806c0584f0"
      },
      "source": [
        "set3 = 'schoolbus'\n",
        "list(set3)\n",
        "set(set3)\n",
        "print(list(set3))\n",
        "print(set(set3))"
      ],
      "execution_count": 8,
      "outputs": [
        {
          "output_type": "stream",
          "name": "stdout",
          "text": [
            "['s', 'c', 'h', 'o', 'o', 'l', 'b', 'u', 's']\n",
            "{'h', 'o', 'l', 'u', 'c', 'b', 's'}\n"
          ]
        }
      ]
    },
    {
      "cell_type": "markdown",
      "metadata": {
        "id": "M638yo-VpK6J"
      },
      "source": [
        "union of sets"
      ]
    },
    {
      "cell_type": "markdown",
      "metadata": {
        "id": "LZAbDBD4qYmQ"
      },
      "source": [
        "union as an operator"
      ]
    },
    {
      "cell_type": "code",
      "metadata": {
        "colab": {
          "base_uri": "https://localhost:8080/"
        },
        "id": "vt-S6o5ApHMK",
        "outputId": "1d2b687d-a67d-4b9c-c8d7-3b5c7062703b"
      },
      "source": [
        "#we use | for the union sign\n",
        "s1 = set((1,2,3,5))\n",
        "s2 = set((5,6,8,7,9,\"book\"))\n",
        "s12 = s1|s2\n",
        "print (s12)"
      ],
      "execution_count": 12,
      "outputs": [
        {
          "output_type": "stream",
          "name": "stdout",
          "text": [
            "{1, 2, 3, 5, 6, 7, 8, 9, 'book'}\n"
          ]
        }
      ]
    },
    {
      "cell_type": "markdown",
      "metadata": {
        "id": "Uiuwbddiqoak"
      },
      "source": [
        "union as a method"
      ]
    },
    {
      "cell_type": "code",
      "metadata": {
        "colab": {
          "base_uri": "https://localhost:8080/"
        },
        "id": "xqNXs3D_qekG",
        "outputId": "a0efcbdb-0039-41e8-f757-e630019b0791"
      },
      "source": [
        "print(s1.union(s2))"
      ],
      "execution_count": 14,
      "outputs": [
        {
          "output_type": "stream",
          "name": "stdout",
          "text": [
            "{1, 2, 3, 5, 6, 7, 8, 9, 'book'}\n"
          ]
        }
      ]
    },
    {
      "cell_type": "markdown",
      "metadata": {
        "id": "6YkmA-P-rGpL"
      },
      "source": [
        "union of more than one set"
      ]
    },
    {
      "cell_type": "code",
      "metadata": {
        "colab": {
          "base_uri": "https://localhost:8080/"
        },
        "id": "ZUvOGySEqvGa",
        "outputId": "964b6901-4752-4a27-caa8-e35dbb8d7b60"
      },
      "source": [
        "set4 = set((\"fan\",\"cap\",\"pencil\"))\n",
        "#with the operator \n",
        "set5=set1 | set2 |set4 | s1 | s2\n",
        "print(set5)\n",
        "#with the method\n",
        "set6 = set1.union(set2,set4,s1,s2)\n",
        "print(set6)"
      ],
      "execution_count": 26,
      "outputs": [
        {
          "output_type": "stream",
          "name": "stdout",
          "text": [
            "{1, 2, 'pen', 3, 4, 5, 6, 7, 8, 9, 'book', 'fan', 'pencil', 'shoe', 'cap', 'bag'}\n",
            "{1, 2, 'pen', 3, 4, 5, 6, 7, 8, 9, 'book', 'fan', 'pencil', 'shoe', 'cap', 'bag'}\n"
          ]
        }
      ]
    },
    {
      "cell_type": "markdown",
      "metadata": {
        "id": "yDwwOm96tgTv"
      },
      "source": [
        "Intersection of sets with the operator and method"
      ]
    },
    {
      "cell_type": "markdown",
      "metadata": {
        "id": "5BhrsQXBuRmv"
      },
      "source": [
        "with the operator"
      ]
    },
    {
      "cell_type": "code",
      "metadata": {
        "colab": {
          "base_uri": "https://localhost:8080/"
        },
        "id": "9lfxpFWZtRb9",
        "outputId": "4d042b4c-97a3-478e-a5a6-d3c2fe2a43a6"
      },
      "source": [
        "#we use the & for intersection\n",
        "s3 = set1 & set2\n",
        "print(s3)\n",
        "#since there is nothing same in both set it gives an empty set\n",
        "print(set2 & s2)"
      ],
      "execution_count": 29,
      "outputs": [
        {
          "output_type": "stream",
          "name": "stdout",
          "text": [
            "set()\n",
            "{8, 5, 6, 7}\n"
          ]
        }
      ]
    },
    {
      "cell_type": "markdown",
      "metadata": {
        "id": "7PUrf2hHu5-A"
      },
      "source": [
        "with the method"
      ]
    },
    {
      "cell_type": "code",
      "metadata": {
        "colab": {
          "base_uri": "https://localhost:8080/"
        },
        "id": "T4W0GhJzuVsf",
        "outputId": "38961526-cd1b-4348-9566-19fc609d7337"
      },
      "source": [
        "print(set1.intersection(set2))\n",
        "print(set1.intersection(s2, set4, s1))"
      ],
      "execution_count": 32,
      "outputs": [
        {
          "output_type": "stream",
          "name": "stdout",
          "text": [
            "set()\n",
            "set()\n"
          ]
        }
      ]
    },
    {
      "cell_type": "markdown",
      "metadata": {
        "id": "1GTACpKwu8rP"
      },
      "source": [
        "difference "
      ]
    },
    {
      "cell_type": "code",
      "metadata": {
        "colab": {
          "base_uri": "https://localhost:8080/"
        },
        "id": "LS3X6HIcu34O",
        "outputId": "74d4468a-b70f-454c-caf2-c482d8cf1697"
      },
      "source": [
        "a = {1, 2, 3, 30, 300}\n",
        "b = {10, 20, 30, 40}\n",
        "c = {100, 200, 300, 400}\n",
        "\n",
        "print(a.difference(b, c))"
      ],
      "execution_count": 34,
      "outputs": [
        {
          "output_type": "stream",
          "name": "stdout",
          "text": [
            "{1, 2, 3}\n"
          ]
        }
      ]
    },
    {
      "cell_type": "code",
      "metadata": {
        "colab": {
          "base_uri": "https://localhost:8080/"
        },
        "id": "N2Ctj1i4xbZp",
        "outputId": "a177cac8-415a-4d25-f568-9a88ddf7d329"
      },
      "source": [
        "print(s1.symmetric_difference(s2))"
      ],
      "execution_count": 36,
      "outputs": [
        {
          "output_type": "stream",
          "name": "stdout",
          "text": [
            "{1, 2, 3, 6, 7, 8, 9, 'book'}\n"
          ]
        }
      ]
    },
    {
      "cell_type": "code",
      "metadata": {
        "colab": {
          "base_uri": "https://localhost:8080/"
        },
        "id": "S18adHtRxqeZ",
        "outputId": "07cff493-0c7e-4192-a6ae-d8d8bc5a69db"
      },
      "source": [
        "#disjoint\n",
        "#checks if two sets have common element if the do it reteurns true\n",
        "#if they don't it returns false\n",
        "print(set1.isdisjoint(set2))\n",
        "print(s1.isdisjoint(set2))"
      ],
      "execution_count": 42,
      "outputs": [
        {
          "output_type": "stream",
          "name": "stdout",
          "text": [
            "True\n",
            "False\n"
          ]
        }
      ]
    },
    {
      "cell_type": "code",
      "metadata": {
        "colab": {
          "base_uri": "https://localhost:8080/"
        },
        "id": "MHOT0bUEyTPv",
        "outputId": "1bb41dce-d89b-4395-ce6c-e2cc60ba149d"
      },
      "source": [
        "#subset\n",
        "#checks if all the elements of one set are found in the other set if so true else false\n",
        "print(set1.issubset(set2))\n",
        "print(s1.issubset(set2))"
      ],
      "execution_count": 43,
      "outputs": [
        {
          "output_type": "stream",
          "name": "stdout",
          "text": [
            "False\n",
            "True\n"
          ]
        }
      ]
    },
    {
      "cell_type": "code",
      "metadata": {
        "colab": {
          "base_uri": "https://localhost:8080/"
        },
        "id": "-eFbvCFGy6FS",
        "outputId": "304e17a8-02ba-47c9-d19c-b9abc4b92eba"
      },
      "source": [
        "#proper set\n",
        "#if every element of a set say Q is in another set W, and Q and W are not equal.then its a proper set\n",
        "print(s1<set2)"
      ],
      "execution_count": 45,
      "outputs": [
        {
          "output_type": "stream",
          "name": "stdout",
          "text": [
            "True\n"
          ]
        }
      ]
    },
    {
      "cell_type": "code",
      "metadata": {
        "colab": {
          "base_uri": "https://localhost:8080/"
        },
        "id": "6k6B7_602iC-",
        "outputId": "b1570508-f3b0-4464-932f-9a32546871b3"
      },
      "source": [
        "#update to add a value to the set\n",
        "#the update will apply for all the operations on set\n",
        "s1 = set((1,2,3,5))\n",
        "print(s1.update(\"pot\",\"cot\"))\n",
        "print(set1.intersection_update([\"pot\"]))\n",
        "print(s1)"
      ],
      "execution_count": 60,
      "outputs": [
        {
          "output_type": "stream",
          "name": "stdout",
          "text": [
            "None\n",
            "None\n",
            "{1, 2, 3, 5, 'o', 't', 'p', 'c'}\n"
          ]
        }
      ]
    },
    {
      "cell_type": "code",
      "metadata": {
        "colab": {
          "base_uri": "https://localhost:8080/"
        },
        "id": "EWRhPuVe56oc",
        "outputId": "cd305fde-1fd2-4c02-a04a-90e4295253f8"
      },
      "source": [
        "x1 = {'foo', 'bar', 'baz'}\n",
        "x2 = {'foo', 'baz', 'qux'}\n",
        "\n",
        "print( x1.symmetric_difference_update(['qux', 'corge']))\n",
        "print(x1)"
      ],
      "execution_count": 61,
      "outputs": [
        {
          "output_type": "stream",
          "name": "stdout",
          "text": [
            "None\n",
            "{'qux', 'bar', 'foo', 'corge', 'baz'}\n"
          ]
        }
      ]
    },
    {
      "cell_type": "code",
      "metadata": {
        "colab": {
          "base_uri": "https://localhost:8080/"
        },
        "id": "WC_uem3h7S6Z",
        "outputId": "1db40c6c-27c7-43aa-f10f-4231301ecb28"
      },
      "source": [
        "#add an element to a set\n",
        "print(x1.add(\"mine\"))\n",
        "print(x1)"
      ],
      "execution_count": 63,
      "outputs": [
        {
          "output_type": "stream",
          "name": "stdout",
          "text": [
            "None\n",
            "{'qux', 'bar', 'mine', 'foo', 'corge', 'baz'}\n"
          ]
        }
      ]
    },
    {
      "cell_type": "code",
      "metadata": {
        "colab": {
          "base_uri": "https://localhost:8080/"
        },
        "id": "Q7YcmcTX7srY",
        "outputId": "0b650141-e960-4a4a-9b18-589ccef48ffb"
      },
      "source": [
        "#remove an element in a set\n",
        "#if the element is not it raises an exception\n",
        "print(x1.remove(\"bar\"))\n",
        "print(x1)"
      ],
      "execution_count": 67,
      "outputs": [
        {
          "output_type": "stream",
          "name": "stdout",
          "text": [
            "None\n",
            "{'qux', 'mine', 'corge', 'baz'}\n"
          ]
        }
      ]
    },
    {
      "cell_type": "code",
      "metadata": {
        "id": "a37HmU4n8Nkh",
        "outputId": "4c4a6f49-e8e1-45a2-f804-fabc0683eeb3",
        "colab": {
          "base_uri": "https://localhost:8080/"
        }
      },
      "source": [
        "#discard \n",
        "#removes an elemnt but if the elemnt is not no exception is raised\n",
        "print(x1.discard(\"foop\"))\n",
        "print(x1)"
      ],
      "execution_count": 69,
      "outputs": [
        {
          "output_type": "stream",
          "name": "stdout",
          "text": [
            "None\n",
            "{'qux', 'mine', 'corge', 'baz'}\n"
          ]
        }
      ]
    },
    {
      "cell_type": "code",
      "metadata": {
        "id": "DskAO2ZV86aY",
        "outputId": "8db66232-8656-491a-bd55-f464fd92f684",
        "colab": {
          "base_uri": "https://localhost:8080/"
        }
      },
      "source": [
        "#pop removes any element in a set\n",
        "#clears removes all the element in a set\n",
        "y = {'farm','car','pot','can','person'}\n",
        "print(y.pop())\n",
        "print(y)\n",
        "print(y.clear())\n",
        "print(y)"
      ],
      "execution_count": 74,
      "outputs": [
        {
          "output_type": "stream",
          "name": "stdout",
          "text": [
            "person\n",
            "{'can', 'farm', 'pot', 'car'}\n",
            "None\n",
            "set()\n"
          ]
        }
      ]
    },
    {
      "cell_type": "code",
      "metadata": {
        "id": "6HX_Ol4E-aDQ"
      },
      "source": [
        ""
      ],
      "execution_count": null,
      "outputs": []
    },
    {
      "cell_type": "code",
      "metadata": {
        "id": "KzIaWcdp-RQ2",
        "outputId": "89bc60bb-a8ec-41c5-ce5f-6896cdf83dda",
        "colab": {
          "base_uri": "https://localhost:8080/"
        }
      },
      "source": [
        "#frosenset can't be modify\n",
        "x = frozenset([1, 3, 'baz'])\n",
        "print(x)\n"
      ],
      "execution_count": 79,
      "outputs": [
        {
          "output_type": "stream",
          "name": "stdout",
          "text": [
            "frozenset({1, 3, 'baz'})\n"
          ]
        }
      ]
    }
  ]
}