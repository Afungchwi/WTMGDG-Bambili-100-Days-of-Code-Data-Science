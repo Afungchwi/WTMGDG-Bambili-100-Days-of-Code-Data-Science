{
  "nbformat": 4,
  "nbformat_minor": 0,
  "metadata": {
    "colab": {
      "name": "Day 12.ipynb",
      "provenance": [],
      "authorship_tag": "ABX9TyPTESSt/I3eUEr/3iEzIj8S",
      "include_colab_link": true
    },
    "kernelspec": {
      "name": "python3",
      "display_name": "Python 3"
    },
    "language_info": {
      "name": "python"
    }
  },
  "cells": [
    {
      "cell_type": "markdown",
      "metadata": {
        "id": "view-in-github",
        "colab_type": "text"
      },
      "source": [
        "<a href=\"https://colab.research.google.com/github/Afungchwi/WTMGDG-Bambili-100-Days-of-Code-Data-Science/blob/main/Day_12.ipynb\" target=\"_parent\"><img src=\"https://colab.research.google.com/assets/colab-badge.svg\" alt=\"Open In Colab\"/></a>"
      ]
    },
    {
      "cell_type": "markdown",
      "metadata": {
        "id": "XVEDiXmaNl-u"
      },
      "source": [
        "Integers"
      ]
    },
    {
      "cell_type": "code",
      "metadata": {
        "colab": {
          "base_uri": "https://localhost:8080/"
        },
        "id": "Ws5xLSrfKcu_",
        "outputId": "4cf975bc-6d35-49b4-ee39-b657dc65abaf"
      },
      "source": [
        "print(12)\n",
        "#binary\n",
        "print(0b10)\n",
        "#octal\n",
        "print(0o10)\n",
        "#hexa\n",
        "print(0x10)"
      ],
      "execution_count": 4,
      "outputs": [
        {
          "output_type": "stream",
          "name": "stdout",
          "text": [
            "12\n",
            "2\n",
            "8\n",
            "16\n"
          ]
        }
      ]
    },
    {
      "cell_type": "markdown",
      "metadata": {
        "id": "5E_JkrxbQSHh"
      },
      "source": [
        "Float"
      ]
    },
    {
      "cell_type": "code",
      "metadata": {
        "colab": {
          "base_uri": "https://localhost:8080/"
        },
        "id": "KYzeIc3zQQ0N",
        "outputId": "808ae193-b709-4548-a7d1-8ab7139d4d3b"
      },
      "source": [
        "print(0.09)\n",
        "print(4.2e-4)"
      ],
      "execution_count": 7,
      "outputs": [
        {
          "output_type": "stream",
          "name": "stdout",
          "text": [
            "0.09\n",
            "0.00042\n"
          ]
        }
      ]
    },
    {
      "cell_type": "markdown",
      "metadata": {
        "id": "sEqRAMCdQ_EU"
      },
      "source": [
        "Complex numbers"
      ]
    },
    {
      "cell_type": "code",
      "metadata": {
        "colab": {
          "base_uri": "https://localhost:8080/"
        },
        "id": "hHrgo2ALQ-Mp",
        "outputId": "54a33f64-dae3-4d8d-d034-6735ff14cd49"
      },
      "source": [
        "a = 2+3j\n",
        "print(type(a))\n",
        "print(a)"
      ],
      "execution_count": 10,
      "outputs": [
        {
          "output_type": "stream",
          "name": "stdout",
          "text": [
            "<class 'complex'>\n",
            "(2+3j)\n"
          ]
        }
      ]
    },
    {
      "cell_type": "markdown",
      "metadata": {
        "id": "hNLyXmgCSK-k"
      },
      "source": [
        "String"
      ]
    },
    {
      "cell_type": "code",
      "metadata": {
        "colab": {
          "base_uri": "https://localhost:8080/"
        },
        "id": "8qqA-fUuSJru",
        "outputId": "b48dccd6-60ae-49d2-96f2-6ea22253d746"
      },
      "source": [
        "print(\"Hello my name is Olivian\")\n",
        "print(\"single quote (\\')\")\n",
        "print(\"double quote(\\\")\")"
      ],
      "execution_count": 11,
      "outputs": [
        {
          "output_type": "stream",
          "name": "stdout",
          "text": [
            "Hello my name is Olivian\n",
            "single quote (')\n",
            "double quote(\")\n"
          ]
        }
      ]
    }
  ]
}