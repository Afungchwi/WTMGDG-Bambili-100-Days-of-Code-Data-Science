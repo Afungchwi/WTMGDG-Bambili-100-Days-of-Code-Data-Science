{
  "nbformat": 4,
  "nbformat_minor": 0,
  "metadata": {
    "colab": {
      "name": "Day 16.ipynb",
      "provenance": [],
      "collapsed_sections": [],
      "authorship_tag": "ABX9TyPK4p1T0X5y87cDUarP0h4J",
      "include_colab_link": true
    },
    "kernelspec": {
      "name": "python3",
      "display_name": "Python 3"
    },
    "language_info": {
      "name": "python"
    }
  },
  "cells": [
    {
      "cell_type": "markdown",
      "metadata": {
        "id": "view-in-github",
        "colab_type": "text"
      },
      "source": [
        "<a href=\"https://colab.research.google.com/github/Afungchwi/WTMGDG-Bambili-100-Days-of-Code-Data-Science/blob/main/Day_16.ipynb\" target=\"_parent\"><img src=\"https://colab.research.google.com/assets/colab-badge.svg\" alt=\"Open In Colab\"/></a>"
      ]
    },
    {
      "cell_type": "markdown",
      "metadata": {
        "id": "dzd-Vw_upFOt"
      },
      "source": [
        "Import"
      ]
    },
    {
      "cell_type": "markdown",
      "metadata": {
        "id": "1HgyBttBqbSA"
      },
      "source": [
        "Module: An object that serves as an organizational unit of Python code."
      ]
    },
    {
      "cell_type": "code",
      "metadata": {
        "colab": {
          "base_uri": "https://localhost:8080/"
        },
        "id": "UMPfV2YTotig",
        "outputId": "44f0dfb0-a988-4833-a812-d893cdfdcca3"
      },
      "source": [
        "import math \n",
        "print(math.pi)\n",
        "print(dir())"
      ],
      "execution_count": null,
      "outputs": [
        {
          "output_type": "stream",
          "name": "stdout",
          "text": [
            "3.141592653589793\n",
            "['In', 'Out', '_', '__', '___', '__builtin__', '__builtins__', '__doc__', '__loader__', '__name__', '__package__', '__spec__', '_dh', '_i', '_i1', '_i2', '_i3', '_ih', '_ii', '_iii', '_oh', '_sh', 'exit', 'get_ipython', 'math', 'quit']\n"
          ]
        }
      ]
    },
    {
      "cell_type": "markdown",
      "metadata": {
        "id": "auYl0kRqq2Py"
      },
      "source": [
        "Packages: A Python module which can contain submodules or recursively, subpackages. Technically, a package is a Python module with an path attribute."
      ]
    },
    {
      "cell_type": "code",
      "metadata": {
        "colab": {
          "base_uri": "https://localhost:8080/"
        },
        "id": "28_9LyOtq0dc",
        "outputId": "86cc445f-dba5-4d2c-bd3c-04da113361e8"
      },
      "source": [
        "import math\n",
        "print(math.__dict__[\"pi\"])\n"
      ],
      "execution_count": null,
      "outputs": [
        {
          "output_type": "stream",
          "name": "stdout",
          "text": [
            "3.141592653589793\n"
          ]
        }
      ]
    },
    {
      "cell_type": "code",
      "metadata": {
        "colab": {
          "base_uri": "https://localhost:8080/",
          "height": 180
        },
        "id": "7FC9SYiRsmej",
        "outputId": "6c2b6cd1-dd1e-41e3-d7f4-fde01c349490"
      },
      "source": [
        "import math\n",
        "math.double(3.14)"
      ],
      "execution_count": null,
      "outputs": [
        {
          "output_type": "error",
          "ename": "AttributeError",
          "evalue": "ignored",
          "traceback": [
            "\u001b[0;31m---------------------------------------------------------------------------\u001b[0m",
            "\u001b[0;31mAttributeError\u001b[0m                            Traceback (most recent call last)",
            "\u001b[0;32m<ipython-input-13-5547a5609080>\u001b[0m in \u001b[0;36m<module>\u001b[0;34m()\u001b[0m\n\u001b[1;32m      1\u001b[0m \u001b[0;32mimport\u001b[0m \u001b[0mmath\u001b[0m\u001b[0;34m\u001b[0m\u001b[0;34m\u001b[0m\u001b[0m\n\u001b[0;32m----> 2\u001b[0;31m \u001b[0mmath\u001b[0m\u001b[0;34m.\u001b[0m\u001b[0mdouble\u001b[0m\u001b[0;34m(\u001b[0m\u001b[0;36m3.14\u001b[0m\u001b[0;34m)\u001b[0m\u001b[0;34m\u001b[0m\u001b[0;34m\u001b[0m\u001b[0m\n\u001b[0m",
            "\u001b[0;31mAttributeError\u001b[0m: module 'math' has no attribute 'double'"
          ]
        }
      ]
    },
    {
      "cell_type": "code",
      "metadata": {
        "colab": {
          "base_uri": "https://localhost:8080/",
          "height": 487
        },
        "id": "vh7fkhpetqne",
        "outputId": "a6f9e44c-a91c-4f39-d243-c4fc3b736577"
      },
      "source": [
        "import pathlib\n",
        "import sys\n",
        "#local import\n",
        "!pip install files\n",
        "import files\n",
        "\n",
        "def main():\n",
        "  try:\n",
        "    root = pathlib.Path(sys.argv[1]).resolve()\n",
        "  except IndexError:\n",
        "    print(\"Need one argument\")\n",
        "    raise SystemExit()\n",
        "\n",
        "  new_root = files.unique_path(pathlib.Path.cwd(), \"{:03d} \")  \n",
        "  for path in root.rglob(\"*\"):\n",
        "    if path.is_file() and new_root not in path.parents:\n",
        "      rel_path = path.relative_to(root)\n",
        "      files.add_empty_file(new_root / rel_path)\n",
        "\n",
        "if __name__ == \"__main__\":\n",
        "  main()"
      ],
      "execution_count": 6,
      "outputs": [
        {
          "output_type": "stream",
          "name": "stdout",
          "text": [
            "Collecting files\n",
            "  Downloading files-1.1.1.tar.gz (10 kB)\n",
            "Building wheels for collected packages: files\n",
            "  Building wheel for files (setup.py) ... \u001b[?25l\u001b[?25hdone\n",
            "  Created wheel for files: filename=files-1.1.1-py3-none-any.whl size=3669 sha256=917316e416488145ea2ae2292827fad633e8c5db7ea3821b0fea3f9b33b93bf2\n",
            "  Stored in directory: /root/.cache/pip/wheels/2f/c3/9a/1705fa83402ed949d63209767985876ef4c5c78f8d53415bfb\n",
            "Successfully built files\n",
            "Installing collected packages: files\n",
            "Successfully installed files-1.1.1\n"
          ]
        },
        {
          "output_type": "error",
          "ename": "AttributeError",
          "evalue": "ignored",
          "traceback": [
            "\u001b[0;31m---------------------------------------------------------------------------\u001b[0m",
            "\u001b[0;31mAttributeError\u001b[0m                            Traceback (most recent call last)",
            "\u001b[0;32m<ipython-input-6-83fbb9f20440>\u001b[0m in \u001b[0;36m<module>\u001b[0;34m()\u001b[0m\n\u001b[1;32m     19\u001b[0m \u001b[0;34m\u001b[0m\u001b[0m\n\u001b[1;32m     20\u001b[0m \u001b[0;32mif\u001b[0m \u001b[0m__name__\u001b[0m \u001b[0;34m==\u001b[0m \u001b[0;34m\"__main__\"\u001b[0m\u001b[0;34m:\u001b[0m\u001b[0;34m\u001b[0m\u001b[0;34m\u001b[0m\u001b[0m\n\u001b[0;32m---> 21\u001b[0;31m   \u001b[0mmain\u001b[0m\u001b[0;34m(\u001b[0m\u001b[0;34m)\u001b[0m\u001b[0;34m\u001b[0m\u001b[0;34m\u001b[0m\u001b[0m\n\u001b[0m",
            "\u001b[0;32m<ipython-input-6-83fbb9f20440>\u001b[0m in \u001b[0;36mmain\u001b[0;34m()\u001b[0m\n\u001b[1;32m     12\u001b[0m     \u001b[0;32mraise\u001b[0m \u001b[0mSystemExit\u001b[0m\u001b[0;34m(\u001b[0m\u001b[0;34m)\u001b[0m\u001b[0;34m\u001b[0m\u001b[0;34m\u001b[0m\u001b[0m\n\u001b[1;32m     13\u001b[0m \u001b[0;34m\u001b[0m\u001b[0m\n\u001b[0;32m---> 14\u001b[0;31m   \u001b[0mnew_root\u001b[0m \u001b[0;34m=\u001b[0m \u001b[0mfiles\u001b[0m\u001b[0;34m.\u001b[0m\u001b[0munique_path\u001b[0m\u001b[0;34m(\u001b[0m\u001b[0mpathlib\u001b[0m\u001b[0;34m.\u001b[0m\u001b[0mPath\u001b[0m\u001b[0;34m.\u001b[0m\u001b[0mcwd\u001b[0m\u001b[0;34m(\u001b[0m\u001b[0;34m)\u001b[0m\u001b[0;34m,\u001b[0m \u001b[0;34m\"{:03d} \"\u001b[0m\u001b[0;34m)\u001b[0m\u001b[0;34m\u001b[0m\u001b[0;34m\u001b[0m\u001b[0m\n\u001b[0m\u001b[1;32m     15\u001b[0m   \u001b[0;32mfor\u001b[0m \u001b[0mpath\u001b[0m \u001b[0;32min\u001b[0m \u001b[0mroot\u001b[0m\u001b[0;34m.\u001b[0m\u001b[0mrglob\u001b[0m\u001b[0;34m(\u001b[0m\u001b[0;34m\"*\"\u001b[0m\u001b[0;34m)\u001b[0m\u001b[0;34m:\u001b[0m\u001b[0;34m\u001b[0m\u001b[0;34m\u001b[0m\u001b[0m\n\u001b[1;32m     16\u001b[0m     \u001b[0;32mif\u001b[0m \u001b[0mpath\u001b[0m\u001b[0;34m.\u001b[0m\u001b[0mis_file\u001b[0m\u001b[0;34m(\u001b[0m\u001b[0;34m)\u001b[0m \u001b[0;32mand\u001b[0m \u001b[0mnew_root\u001b[0m \u001b[0;32mnot\u001b[0m \u001b[0;32min\u001b[0m \u001b[0mpath\u001b[0m\u001b[0;34m.\u001b[0m\u001b[0mparents\u001b[0m\u001b[0;34m:\u001b[0m\u001b[0;34m\u001b[0m\u001b[0;34m\u001b[0m\u001b[0m\n",
            "\u001b[0;31mAttributeError\u001b[0m: module 'files' has no attribute 'unique_path'"
          ]
        }
      ]
    },
    {
      "cell_type": "code",
      "metadata": {
        "id": "wlf7h0-Q4hFx",
        "colab": {
          "base_uri": "https://localhost:8080/",
          "height": 489
        },
        "outputId": "4287c59c-a3d2-4279-9c4e-75a399311878"
      },
      "source": [
        "class Song:\n",
        "  def __init__(self, song_id, title, artist):\n",
        "    self.song_id = song_id\n",
        "    self.title = title\n",
        "    self.artist = artist\n",
        "\n",
        "  def serialize(self, serializer):\n",
        "    serializer.start_object(\"song\", self.song_id)\n",
        "    serializer.add_property(\"title\", self.title)\n",
        "    serializer.add_property(\"artist\", self.artist)\n",
        "\n",
        "    return str(serializer)\n",
        "\n",
        "!pip install serializers\n",
        "!pip install serializers.json\n",
        "!pip install serializers.xml\n",
        "from serializers.json import JsonSerializer\n",
        "from serializers.xml import XmlSerializer\n",
        "from song import Song\n",
        "song = Song(song_id=\"1\", title=\"The Same River\", artist=\"Riverside\")\n",
        "song.serializer()"
      ],
      "execution_count": 7,
      "outputs": [
        {
          "output_type": "stream",
          "name": "stdout",
          "text": [
            "Requirement already satisfied: serializers in /usr/local/lib/python3.7/dist-packages (0.2.4)\n",
            "Requirement already satisfied: future in /usr/local/lib/python3.7/dist-packages (from serializers) (0.16.0)\n",
            "\u001b[31mERROR: Could not find a version that satisfies the requirement serializers.json (from versions: none)\u001b[0m\n",
            "\u001b[31mERROR: No matching distribution found for serializers.json\u001b[0m\n",
            "\u001b[31mERROR: Could not find a version that satisfies the requirement serializers.xml (from versions: none)\u001b[0m\n",
            "\u001b[31mERROR: No matching distribution found for serializers.xml\u001b[0m\n"
          ]
        },
        {
          "output_type": "error",
          "ename": "ModuleNotFoundError",
          "evalue": "ignored",
          "traceback": [
            "\u001b[0;31m---------------------------------------------------------------------------\u001b[0m",
            "\u001b[0;31mModuleNotFoundError\u001b[0m                       Traceback (most recent call last)",
            "\u001b[0;32m<ipython-input-7-41c8cd4c467f>\u001b[0m in \u001b[0;36m<module>\u001b[0;34m()\u001b[0m\n\u001b[1;32m     15\u001b[0m \u001b[0mget_ipython\u001b[0m\u001b[0;34m(\u001b[0m\u001b[0;34m)\u001b[0m\u001b[0;34m.\u001b[0m\u001b[0msystem\u001b[0m\u001b[0;34m(\u001b[0m\u001b[0;34m'pip install serializers.json'\u001b[0m\u001b[0;34m)\u001b[0m\u001b[0;34m\u001b[0m\u001b[0;34m\u001b[0m\u001b[0m\n\u001b[1;32m     16\u001b[0m \u001b[0mget_ipython\u001b[0m\u001b[0;34m(\u001b[0m\u001b[0;34m)\u001b[0m\u001b[0;34m.\u001b[0m\u001b[0msystem\u001b[0m\u001b[0;34m(\u001b[0m\u001b[0;34m'pip install serializers.xml'\u001b[0m\u001b[0;34m)\u001b[0m\u001b[0;34m\u001b[0m\u001b[0;34m\u001b[0m\u001b[0m\n\u001b[0;32m---> 17\u001b[0;31m \u001b[0;32mfrom\u001b[0m \u001b[0mserializers\u001b[0m\u001b[0;34m.\u001b[0m\u001b[0mjson\u001b[0m \u001b[0;32mimport\u001b[0m \u001b[0mJsonSerializer\u001b[0m\u001b[0;34m\u001b[0m\u001b[0;34m\u001b[0m\u001b[0m\n\u001b[0m\u001b[1;32m     18\u001b[0m \u001b[0;32mfrom\u001b[0m \u001b[0mserializers\u001b[0m\u001b[0;34m.\u001b[0m\u001b[0mxml\u001b[0m \u001b[0;32mimport\u001b[0m \u001b[0mXmlSerializer\u001b[0m\u001b[0;34m\u001b[0m\u001b[0;34m\u001b[0m\u001b[0m\n\u001b[1;32m     19\u001b[0m \u001b[0;32mfrom\u001b[0m \u001b[0msong\u001b[0m \u001b[0;32mimport\u001b[0m \u001b[0mSong\u001b[0m\u001b[0;34m\u001b[0m\u001b[0;34m\u001b[0m\u001b[0m\n",
            "\u001b[0;31mModuleNotFoundError\u001b[0m: No module named 'serializers.json'",
            "",
            "\u001b[0;31m---------------------------------------------------------------------------\u001b[0;32m\nNOTE: If your import is failing due to a missing package, you can\nmanually install dependencies using either !pip or !apt.\n\nTo view examples of installing some common dependencies, click the\n\"Open Examples\" button below.\n\u001b[0;31m---------------------------------------------------------------------------\u001b[0m\n"
          ],
          "errorDetails": {
            "actions": [
              {
                "action": "open_url",
                "actionText": "Open Examples",
                "url": "/notebooks/snippets/importing_libraries.ipynb"
              }
            ]
          }
        }
      ]
    },
    {
      "cell_type": "code",
      "metadata": {
        "colab": {
          "base_uri": "https://localhost:8080/"
        },
        "id": "wTmv1PRn8KY8",
        "outputId": "7d0080fc-7c1d-4602-f6df-2012add403d0"
      },
      "source": [
        "import importlib\n",
        "\n",
        "module_name = input(\"Name of module? \")\n",
        "module = importlib.import_module(module_name)\n",
        "print(module.__doc__)"
      ],
      "execution_count": 10,
      "outputs": [
        {
          "output_type": "stream",
          "name": "stdout",
          "text": [
            "Name of module? importlib\n",
            "A pure Python implementation of import.\n"
          ]
        }
      ]
    },
    {
      "cell_type": "code",
      "metadata": {
        "colab": {
          "base_uri": "https://localhost:8080/",
          "height": 795
        },
        "id": "bPp39PDn83r_",
        "outputId": "cb4b7d9d-4635-42be-d77d-d6cafb8c014a"
      },
      "source": [
        "!pip install greeter\n",
        "import greeter\n",
        "import random\n",
        "\n",
        "greeting = random.choice(greeter.greetings())\n",
        "greeter.greet(greeting, name=\"Frida\")"
      ],
      "execution_count": 12,
      "outputs": [
        {
          "output_type": "stream",
          "name": "stdout",
          "text": [
            "Collecting greeter\n",
            "  Downloading greeter-0.0.1471137042.tar.gz (3.4 kB)\n",
            "Collecting grpcio==1.0.0rc2\n",
            "  Downloading grpcio-1.0.0rc2.tar.gz (5.3 MB)\n",
            "\u001b[K     |████████████████████████████████| 5.3 MB 8.8 MB/s \n",
            "\u001b[?25hRequirement already satisfied: six>=1.5.2 in /usr/local/lib/python3.7/dist-packages (from grpcio==1.0.0rc2->greeter) (1.15.0)\n",
            "Collecting enum34>=1.0.4\n",
            "  Using cached enum34-1.1.10-py3-none-any.whl (11 kB)\n",
            "Collecting futures>=2.2.0\n",
            "  Using cached futures-3.1.1-py3-none-any.whl (2.8 kB)\n",
            "Requirement already satisfied: protobuf>=3.0.0 in /usr/local/lib/python3.7/dist-packages (from grpcio==1.0.0rc2->greeter) (3.17.3)\n",
            "Building wheels for collected packages: greeter, grpcio\n",
            "  Building wheel for greeter (setup.py) ... \u001b[?25l\u001b[?25hdone\n",
            "  Created wheel for greeter: filename=greeter-0.0.1471137042-py3-none-any.whl size=3498 sha256=105abc8ac17bb3d7503ae6304fe9512e6b85b419cc4fadecdcce9792fbf79f96\n",
            "  Stored in directory: /root/.cache/pip/wheels/8e/b9/10/b5882c0bfe8024c029eb3f52dfd8850e1e37445f115f56cf4a\n",
            "  Building wheel for grpcio (setup.py) ... \u001b[?25l\u001b[?25hdone\n",
            "  Created wheel for grpcio: filename=grpcio-1.0.0rc2-cp37-cp37m-linux_x86_64.whl size=4125223 sha256=5a2e60fb554c680b29dbfdc36559070650ccd70dd26fb5c9dc3c0260bdb6c676\n",
            "  Stored in directory: /root/.cache/pip/wheels/c4/3e/d6/303769ce0eb15dbbee5bc2180c6de4aa6dec3f6d560073382a\n",
            "Successfully built greeter grpcio\n",
            "Installing collected packages: futures, enum34, grpcio, greeter\n",
            "  Attempting uninstall: grpcio\n",
            "    Found existing installation: grpcio 1.40.0\n",
            "    Uninstalling grpcio-1.40.0:\n",
            "      Successfully uninstalled grpcio-1.40.0\n",
            "\u001b[31mERROR: pip's dependency resolver does not currently take into account all the packages that are installed. This behaviour is the source of the following dependency conflicts.\n",
            "tensorflow 2.6.0 requires grpcio<2.0,>=1.37.0, but you have grpcio 1.0.0rc2 which is incompatible.\n",
            "tensorboard 2.6.0 requires grpcio>=1.24.3, but you have grpcio 1.0.0rc2 which is incompatible.\u001b[0m\n",
            "Successfully installed enum34-1.1.10 futures-3.1.1 greeter-0.0.1471137042 grpcio-1.0.0rc2\n"
          ]
        },
        {
          "output_type": "display_data",
          "data": {
            "application/vnd.colab-display-data+json": {
              "pip_warning": {
                "packages": [
                  "enum"
                ]
              }
            }
          },
          "metadata": {}
        },
        {
          "output_type": "error",
          "ename": "AttributeError",
          "evalue": "ignored",
          "traceback": [
            "\u001b[0;31m---------------------------------------------------------------------------\u001b[0m",
            "\u001b[0;31mAttributeError\u001b[0m                            Traceback (most recent call last)",
            "\u001b[0;32m<ipython-input-12-eb1c49bcb87c>\u001b[0m in \u001b[0;36m<module>\u001b[0;34m()\u001b[0m\n\u001b[1;32m      3\u001b[0m \u001b[0;32mimport\u001b[0m \u001b[0mrandom\u001b[0m\u001b[0;34m\u001b[0m\u001b[0;34m\u001b[0m\u001b[0m\n\u001b[1;32m      4\u001b[0m \u001b[0;34m\u001b[0m\u001b[0m\n\u001b[0;32m----> 5\u001b[0;31m \u001b[0mgreeting\u001b[0m \u001b[0;34m=\u001b[0m \u001b[0mrandom\u001b[0m\u001b[0;34m.\u001b[0m\u001b[0mchoice\u001b[0m\u001b[0;34m(\u001b[0m\u001b[0mgreeter\u001b[0m\u001b[0;34m.\u001b[0m\u001b[0mgreetings\u001b[0m\u001b[0;34m(\u001b[0m\u001b[0;34m)\u001b[0m\u001b[0;34m)\u001b[0m\u001b[0;34m\u001b[0m\u001b[0;34m\u001b[0m\u001b[0m\n\u001b[0m\u001b[1;32m      6\u001b[0m \u001b[0mgreeter\u001b[0m\u001b[0;34m.\u001b[0m\u001b[0mgreet\u001b[0m\u001b[0;34m(\u001b[0m\u001b[0mgreeting\u001b[0m\u001b[0;34m,\u001b[0m \u001b[0mname\u001b[0m\u001b[0;34m=\u001b[0m\u001b[0;34m\"Frida\"\u001b[0m\u001b[0;34m)\u001b[0m\u001b[0;34m\u001b[0m\u001b[0;34m\u001b[0m\u001b[0m\n",
            "\u001b[0;31mAttributeError\u001b[0m: module 'greeter' has no attribute 'greetings'"
          ]
        }
      ]
    }
  ]
}