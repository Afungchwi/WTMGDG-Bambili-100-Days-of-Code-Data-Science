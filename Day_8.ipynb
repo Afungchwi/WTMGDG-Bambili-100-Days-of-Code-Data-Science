{
  "nbformat": 4,
  "nbformat_minor": 0,
  "metadata": {
    "colab": {
      "name": "Day 8.ipynb",
      "provenance": [],
      "collapsed_sections": [],
      "authorship_tag": "ABX9TyNQNImAOkvU/K6qiJnktRpY",
      "include_colab_link": true
    },
    "kernelspec": {
      "name": "python3",
      "display_name": "Python 3"
    },
    "language_info": {
      "name": "python"
    }
  },
  "cells": [
    {
      "cell_type": "markdown",
      "metadata": {
        "id": "view-in-github",
        "colab_type": "text"
      },
      "source": [
        "<a href=\"https://colab.research.google.com/github/Afungchwi/WTMGDG-Bambili-100-Days-of-Code-Data-Science/blob/main/Day_8.ipynb\" target=\"_parent\"><img src=\"https://colab.research.google.com/assets/colab-badge.svg\" alt=\"Open In Colab\"/></a>"
      ]
    },
    {
      "cell_type": "markdown",
      "metadata": {
        "id": "IQsUyjmJOPq2"
      },
      "source": [
        "Intro to if statements"
      ]
    },
    {
      "cell_type": "code",
      "metadata": {
        "colab": {
          "base_uri": "https://localhost:8080/"
        },
        "id": "WG49DC_mIkEs",
        "outputId": "5f2fdcd6-0a0e-47d4-e2bb-de68fbdbf6d7"
      },
      "source": [
        "x = 5\n",
        "y = 3\n",
        "if y < x:\n",
        "  print('less than')"
      ],
      "execution_count": 2,
      "outputs": [
        {
          "output_type": "stream",
          "name": "stdout",
          "text": [
            "less than\n"
          ]
        }
      ]
    },
    {
      "cell_type": "code",
      "metadata": {
        "colab": {
          "base_uri": "https://localhost:8080/"
        },
        "id": "fMgN5AIiQEkR",
        "outputId": "db895a5d-8537-47b0-9425-4d3a465ef586"
      },
      "source": [
        "if 'foo' in ['bar', 'baz', 'qux']:\n",
        "    print('Expression was true')\n",
        "    print('Executing statement in suite')\n",
        "    print('...')\n",
        "    print('Done.')\n",
        "print('After conditional')\n",
        "if 'foo' in ['bar', 'baz', 'qux', 'foo']:\n",
        "    print('Expression was true')\n",
        "    print('Executing statement in suite')\n",
        "    print('...')\n",
        "    print('Done.')\n",
        "print('After conditional')"
      ],
      "execution_count": 4,
      "outputs": [
        {
          "output_type": "stream",
          "name": "stdout",
          "text": [
            "After conditional\n",
            "Expression was true\n",
            "Executing statement in suite\n",
            "...\n",
            "Done.\n",
            "After conditional\n"
          ]
        }
      ]
    },
    {
      "cell_type": "markdown",
      "metadata": {
        "id": "vZRqweByQ-rS"
      },
      "source": [
        "else and elif"
      ]
    },
    {
      "cell_type": "code",
      "metadata": {
        "colab": {
          "base_uri": "https://localhost:8080/"
        },
        "id": "YkFj5ekvQ9pC",
        "outputId": "bacef987-c666-440c-a909-7a37743195e3"
      },
      "source": [
        "t = 40\n",
        "if t >20:\n",
        "  print(\"im bigger than you\")\n",
        "else:\n",
        "  print(\"im smaller than you\")\n",
        "\n",
        "p = 40\n",
        "if p < 20:\n",
        "  print(\"im bigger than you\")\n",
        "else:\n",
        "  print(\"im smaller than you\")"
      ],
      "execution_count": 7,
      "outputs": [
        {
          "output_type": "stream",
          "name": "stdout",
          "text": [
            "im bigger than you\n",
            "im smaller than you\n"
          ]
        }
      ]
    },
    {
      "cell_type": "markdown",
      "metadata": {
        "id": "5PPneK4SSrCL"
      },
      "source": [
        "elif"
      ]
    },
    {
      "cell_type": "code",
      "metadata": {
        "colab": {
          "base_uri": "https://localhost:8080/"
        },
        "id": "7sUT94X_SqVt",
        "outputId": "282df91e-49ad-4bdc-a12f-2fcd0377933d"
      },
      "source": [
        "name = \"Yve\"\n",
        "if name == 'Olivia':\n",
        "  print('Hello Oli')\n",
        "elif name == 'Livian':\n",
        "  print('Hello Livian')\n",
        "elif name == 'Brenny':\n",
        "  print('Hello Brenny')\n",
        "else:\n",
        "  print(\"I don't know you\")\n",
        " "
      ],
      "execution_count": 4,
      "outputs": [
        {
          "output_type": "stream",
          "name": "stdout",
          "text": [
            "I don't know you\n"
          ]
        }
      ]
    },
    {
      "cell_type": "markdown",
      "metadata": {
        "id": "wp8ytz5mqLtx"
      },
      "source": [
        ""
      ]
    },
    {
      "cell_type": "code",
      "metadata": {
        "colab": {
          "base_uri": "https://localhost:8080/"
        },
        "id": "a9HYrhUGpaMT",
        "outputId": "9b88cded-8f04-4cce-cd10-1889c3a80cf8"
      },
      "source": [
        "#Using the get method in dictionary to achieve the if elif else statement\n",
        "names = dict(\n",
        "    Olivia ='Hello Oli',\n",
        "    Livian = 'Hello Livian',\n",
        "    Brenny = 'Hello Brenny',\n",
        "    \n",
        ")\n",
        "print(names.get('Olivia', \"I don't know who you are!\"))\n",
        "print(names.get('Yve', \"I don't know who you are!\"))"
      ],
      "execution_count": 7,
      "outputs": [
        {
          "output_type": "stream",
          "name": "stdout",
          "text": [
            "Hello Oli\n",
            "I don't know who you are!\n"
          ]
        }
      ]
    },
    {
      "cell_type": "code",
      "metadata": {
        "colab": {
          "base_uri": "https://localhost:8080/"
        },
        "id": "YoJIqxXowKDY",
        "outputId": "531fc3a1-3528-444d-bf7c-458c12c00010"
      },
      "source": [
        "#if statement can be written in one line depending on the code\n",
        "#Ternary operator\n",
        "age = 121\n",
        "calAge = 'minor' if age < 21 else 'adult'\n",
        "print(calAge)\n",
        "age = 12\n",
        "calAge = 'minor' if age < 21 else 'adult'\n",
        "print(calAge)"
      ],
      "execution_count": 10,
      "outputs": [
        {
          "output_type": "stream",
          "name": "stdout",
          "text": [
            "adult\n",
            "minor\n"
          ]
        }
      ]
    }
  ]
}