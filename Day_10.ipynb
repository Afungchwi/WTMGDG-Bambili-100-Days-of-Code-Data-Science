{
  "nbformat": 4,
  "nbformat_minor": 0,
  "metadata": {
    "colab": {
      "name": "Day 10.ipynb",
      "provenance": [],
      "authorship_tag": "ABX9TyPjlqbLa2QmK7bxa6Qkn6r2",
      "include_colab_link": true
    },
    "kernelspec": {
      "name": "python3",
      "display_name": "Python 3"
    },
    "language_info": {
      "name": "python"
    }
  },
  "cells": [
    {
      "cell_type": "markdown",
      "metadata": {
        "id": "view-in-github",
        "colab_type": "text"
      },
      "source": [
        "<a href=\"https://colab.research.google.com/github/Afungchwi/WTMGDG-Bambili-100-Days-of-Code-Data-Science/blob/main/Day_10.ipynb\" target=\"_parent\"><img src=\"https://colab.research.google.com/assets/colab-badge.svg\" alt=\"Open In Colab\"/></a>"
      ]
    },
    {
      "cell_type": "code",
      "metadata": {
        "id": "U4OdBT0QEonW",
        "colab": {
          "base_uri": "https://localhost:8080/"
        },
        "outputId": "a8e0dbf9-754d-4ca6-cb14-866647b6ac22"
      },
      "source": [
        "O = [1,2,3,4,5,6,7,8,9,10]\n",
        "for o in O:\n",
        "  print(o)"
      ],
      "execution_count": 2,
      "outputs": [
        {
          "output_type": "stream",
          "name": "stdout",
          "text": [
            "1\n",
            "2\n",
            "3\n",
            "4\n",
            "5\n",
            "6\n",
            "7\n",
            "8\n",
            "9\n",
            "10\n"
          ]
        }
      ]
    },
    {
      "cell_type": "code",
      "metadata": {
        "colab": {
          "base_uri": "https://localhost:8080/"
        },
        "id": "xfx4LiXp1OYY",
        "outputId": "b9bfe217-dbc2-40a4-d087-225fa06b196f"
      },
      "source": [
        "#iterables being able to iterate iterables we have list dictionary strings tuples uniterables integers float and build in fxns\n",
        "#iterators are the values of the iterable\n",
        "#ex O is iterable since its a list and the values in it are the iterators\n",
        "itr = iter(O)\n",
        "print (itr)\n",
        "print(next(itr))\n",
        "print(next(itr))\n",
        "print(next(itr))"
      ],
      "execution_count": 6,
      "outputs": [
        {
          "output_type": "stream",
          "name": "stdout",
          "text": [
            "<list_iterator object at 0x7f5988fb4110>\n",
            "1\n",
            "2\n",
            "3\n"
          ]
        }
      ]
    },
    {
      "cell_type": "code",
      "metadata": {
        "colab": {
          "base_uri": "https://localhost:8080/"
        },
        "id": "9xHS7M0f3_Qj",
        "outputId": "2a3decb4-6d34-450b-8bd8-d2abb2796611"
      },
      "source": [
        "#using the built in list fxn n iter to get a list of iterators tuple n set\n",
        "itr = iter(O)\n",
        "# for list\n",
        "print('list : ',list(itr))\n",
        "#for set\n",
        "print( 'Set : ' ,set(iter(O)))\n",
        "#for tuple\n",
        "print('tuple : ',tuple(iter(O)))"
      ],
      "execution_count": 15,
      "outputs": [
        {
          "output_type": "stream",
          "name": "stdout",
          "text": [
            "list :  [1, 2, 3, 4, 5, 6, 7, 8, 9, 10]\n",
            "Set :  {1, 2, 3, 4, 5, 6, 7, 8, 9, 10}\n",
            "tuple :  (1, 2, 3, 4, 5, 6, 7, 8, 9, 10)\n"
          ]
        }
      ]
    },
    {
      "cell_type": "code",
      "metadata": {
        "colab": {
          "base_uri": "https://localhost:8080/"
        },
        "id": "-SWg2Pva7lzb",
        "outputId": "0e6725ce-774c-45ef-a510-b88464b77b35"
      },
      "source": [
        "#accessing the dict keys and values\n",
        "t = dict(one= '1',two='2',three ='3')\n",
        "print(t)\n",
        "#print the dict key\n",
        "for key in t:\n",
        "  print(key)\n",
        "#print the dict value\n",
        "for key in t:\n",
        "  print(t[key]) \n",
        "\n",
        "#alternative of print value\n",
        "print(t.values()) \n"
      ],
      "execution_count": 24,
      "outputs": [
        {
          "output_type": "stream",
          "name": "stdout",
          "text": [
            "{'one': '1', 'two': '2', 'three': '3'}\n",
            "one\n",
            "two\n",
            "three\n",
            "1\n",
            "2\n",
            "3\n",
            "dict_values(['1', '2', '3'])\n"
          ]
        }
      ]
    },
    {
      "cell_type": "code",
      "metadata": {
        "colab": {
          "base_uri": "https://localhost:8080/"
        },
        "id": "KCUf5-YP-0Xo",
        "outputId": "a2c2a00e-ad47-45e6-902f-95aab9afa487"
      },
      "source": [
        "#getting the key and value of a dict\n",
        "b =[(1, 2), (3, 4), (5, 6)]\n",
        "for i, j in b:\n",
        "  print(i,j)\n",
        "\n",
        "#using the idea\n",
        "d = dict(one= '1',two='2',three ='3', four = '4', five='5')\n",
        "print(d.items())\n",
        "for k, v in d.items():\n",
        "  print('K = ', k, '  V = ', v)"
      ],
      "execution_count": 30,
      "outputs": [
        {
          "output_type": "stream",
          "name": "stdout",
          "text": [
            "1 2\n",
            "3 4\n",
            "5 6\n",
            "dict_items([('one', '1'), ('two', '2'), ('three', '3'), ('four', '4'), ('five', '5')])\n",
            "K =  one   V =  1\n",
            "K =  two   V =  2\n",
            "K =  three   V =  3\n",
            "K =  four   V =  4\n",
            "K =  five   V =  5\n"
          ]
        }
      ]
    },
    {
      "cell_type": "code",
      "metadata": {
        "colab": {
          "base_uri": "https://localhost:8080/"
        },
        "id": "Jjzuw5iiBJ5p",
        "outputId": "05bbacbf-898b-4da2-f495-02fb926e1455"
      },
      "source": [
        "#range function\n",
        "print(range(0,5))\n",
        "r = range(0, 11)\n",
        "for v in r:\n",
        "  print(v)\n",
        "w = range(-10, 10, 2) \n",
        "for t in w:\n",
        "  print(t)"
      ],
      "execution_count": 36,
      "outputs": [
        {
          "output_type": "stream",
          "name": "stdout",
          "text": [
            "range(0, 5)\n",
            "0\n",
            "1\n",
            "2\n",
            "3\n",
            "4\n",
            "5\n",
            "6\n",
            "7\n",
            "8\n",
            "9\n",
            "10\n",
            "-10\n",
            "-8\n",
            "-6\n",
            "-4\n",
            "-2\n",
            "0\n",
            "2\n",
            "4\n",
            "6\n",
            "8\n"
          ]
        }
      ]
    },
    {
      "cell_type": "code",
      "metadata": {
        "colab": {
          "base_uri": "https://localhost:8080/"
        },
        "id": "HhHYEAfVCWiH",
        "outputId": "381cd21e-e45c-4ec7-c8de-c8ee26120464"
      },
      "source": [
        "#break continue n else in for\n",
        "#break\n",
        "\n",
        "for i in ['foo', 'bar', 'baz', 'qux']:\n",
        "  if 'b' in i:\n",
        "    break\n",
        "  print(i)\n",
        "for i in ['foo', 'bar', 'baz', 'qux']:\n",
        "  if 'b' in i:\n",
        "    continue\n",
        "  print(i)"
      ],
      "execution_count": 56,
      "outputs": [
        {
          "output_type": "stream",
          "name": "stdout",
          "text": [
            "foo\n",
            "foo\n",
            "qux\n"
          ]
        }
      ]
    },
    {
      "cell_type": "code",
      "metadata": {
        "colab": {
          "base_uri": "https://localhost:8080/"
        },
        "id": "ffUYh1t5Eqoo",
        "outputId": "97b536ff-355b-4eb4-9469-ed634a26f481"
      },
      "source": [
        "for i in ['foo', 'bar', 'baz', 'qux']:\n",
        "  if i == 'bar':\n",
        "    break\n",
        "  print(i)\n",
        "else:\n",
        "    print('Done')  "
      ],
      "execution_count": 54,
      "outputs": [
        {
          "output_type": "stream",
          "name": "stdout",
          "text": [
            "foo\n"
          ]
        }
      ]
    }
  ]
}