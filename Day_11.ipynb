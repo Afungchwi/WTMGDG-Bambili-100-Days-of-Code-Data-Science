{
  "nbformat": 4,
  "nbformat_minor": 0,
  "metadata": {
    "colab": {
      "name": "Day 11.ipynb",
      "provenance": [],
      "authorship_tag": "ABX9TyPxQZUqvVZ7fLWZW1KrIxi2",
      "include_colab_link": true
    },
    "kernelspec": {
      "name": "python3",
      "display_name": "Python 3"
    },
    "language_info": {
      "name": "python"
    }
  },
  "cells": [
    {
      "cell_type": "markdown",
      "metadata": {
        "id": "view-in-github",
        "colab_type": "text"
      },
      "source": [
        "<a href=\"https://colab.research.google.com/github/Afungchwi/WTMGDG-Bambili-100-Days-of-Code-Data-Science/blob/main/Day_11.ipynb\" target=\"_parent\"><img src=\"https://colab.research.google.com/assets/colab-badge.svg\" alt=\"Open In Colab\"/></a>"
      ]
    },
    {
      "cell_type": "markdown",
      "metadata": {
        "id": "z9nVtFNZPKh9"
      },
      "source": [
        "Revision of list and tuples"
      ]
    },
    {
      "cell_type": "code",
      "metadata": {
        "colab": {
          "base_uri": "https://localhost:8080/"
        },
        "id": "02MMTzCRH0rc",
        "outputId": "bd2bf50f-e4ea-4408-c9d7-112719f4b253"
      },
      "source": [
        "#Lists are ordered.\n",
        "a = [1,2,3,4,5]\n",
        "b = [5,4,3,2,1]\n",
        "c = [1,2,3,4,5]\n",
        "print(a==b)\n",
        "print(a==c)\n",
        "print(b==c)\n",
        "#Lists can contain any arbitrary objects.\n",
        "#same data type\n",
        "# list with a single object is sometimes referred to as a singleton list.\n",
        "a = [1,2,3,4,5]\n",
        "print(a)\n",
        "#diff datatype\n",
        "a = [1,2,3,4,5, 7.6,8.9, \"pen\",\"pot\",'book']\n",
        "print(a)\n",
        "#List elements can be accessed by index.\n",
        "print(a[4])\n",
        "#inversing a list\n",
        "print(a[::-1])\n",
        "#giving range of value in a list in steps\n",
        "print(a[1:8:2])\n",
        "#Lists can be nested to arbitrary depth.\n",
        "b = [2,4,6,8, [2,3,4,5, 7.6,8.9], [ \"pen\",\"pot\",'book']]\n",
        "print('b = ', b)\n",
        "#index accessing in a nested list\n",
        "print(b[2])\n",
        "print(b[4])\n",
        "#index accessing of an index in a nested list\n",
        "print(b[4][3])"
      ],
      "execution_count": 11,
      "outputs": [
        {
          "output_type": "stream",
          "name": "stdout",
          "text": [
            "False\n",
            "True\n",
            "False\n",
            "[1, 2, 3, 4, 5]\n",
            "[1, 2, 3, 4, 5, 7.6, 8.9, 'pen', 'pot', 'book']\n",
            "5\n",
            "['book', 'pot', 'pen', 8.9, 7.6, 5, 4, 3, 2, 1]\n",
            "[2, 4, 7.6, 'pen']\n",
            "b =  [2, 4, 6, 8, [2, 3, 4, 5, 7.6, 8.9], ['pen', 'pot', 'book']]\n",
            "6\n",
            "[2, 3, 4, 5, 7.6, 8.9]\n",
            "5\n"
          ]
        }
      ]
    },
    {
      "cell_type": "code",
      "metadata": {
        "colab": {
          "base_uri": "https://localhost:8080/"
        },
        "id": "UbHhmBEBNRnu",
        "outputId": "11a9569a-9438-4d4d-be1b-b255c0d3d1e3"
      },
      "source": [
        "#tuple\n",
        "t =('foo', 'bar', 'baz', 'qux', 'quux', 'corge')\n",
        "print(t)\n",
        "print(type(t))\n",
        "#reversing a tuple\n",
        "print(t[::-1])"
      ],
      "execution_count": 16,
      "outputs": [
        {
          "output_type": "stream",
          "name": "stdout",
          "text": [
            "('foo', 'bar', 'baz', 'qux', 'quux', 'corge')\n",
            "<class 'tuple'>\n",
            "('corge', 'quux', 'qux', 'baz', 'bar', 'foo')\n"
          ]
        }
      ]
    },
    {
      "cell_type": "code",
      "metadata": {
        "colab": {
          "base_uri": "https://localhost:8080/"
        },
        "id": "HEq7oOfDOtV8",
        "outputId": "5f9302c2-82d8-4afc-93dc-11df5834ac8b"
      },
      "source": [
        "(s1,s2,s3,s4,s5,s6)=('foo', 'bar', 'baz', 'qux', 'quux', 'corge')\n",
        "print(s1)"
      ],
      "execution_count": 18,
      "outputs": [
        {
          "output_type": "stream",
          "name": "stdout",
          "text": [
            "foo\n"
          ]
        }
      ]
    }
  ]
}