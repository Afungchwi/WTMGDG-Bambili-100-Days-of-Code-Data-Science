{
  "nbformat": 4,
  "nbformat_minor": 0,
  "metadata": {
    "colab": {
      "name": "Day 5.ipynb",
      "provenance": [],
      "collapsed_sections": [],
      "authorship_tag": "ABX9TyOFd+07YoPVfbX6K+uKB+ig",
      "include_colab_link": true
    },
    "kernelspec": {
      "name": "python3",
      "display_name": "Python 3"
    },
    "language_info": {
      "name": "python"
    }
  },
  "cells": [
    {
      "cell_type": "markdown",
      "metadata": {
        "id": "view-in-github",
        "colab_type": "text"
      },
      "source": [
        "<a href=\"https://colab.research.google.com/github/Afungchwi/WTMGDG-Bambili-100-Days-of-Code-Data-Science/blob/main/Day_5.ipynb\" target=\"_parent\"><img src=\"https://colab.research.google.com/assets/colab-badge.svg\" alt=\"Open In Colab\"/></a>"
      ]
    },
    {
      "cell_type": "code",
      "metadata": {
        "colab": {
          "base_uri": "https://localhost:8080/"
        },
        "id": "WR59uo_7isgh",
        "outputId": "ba2c440e-8146-4582-a3b8-37cedcb88c59"
      },
      "source": [
        "sample_variable = [\"Hello\", \"How\", \"are\", \"you\"]\n",
        "print(sample_variable[0])"
      ],
      "execution_count": 2,
      "outputs": [
        {
          "output_type": "stream",
          "name": "stdout",
          "text": [
            "Hello\n"
          ]
        }
      ]
    },
    {
      "cell_type": "code",
      "metadata": {
        "colab": {
          "base_uri": "https://localhost:8080/"
        },
        "id": "QW4Yjr-yn13u",
        "outputId": "315a957f-f6ea-4f78-fa79-8e91a2e8b26a"
      },
      "source": [
        "#even numbers between 1 and 10\n",
        "listIndex1 = [2,4,6,8,10]\n",
        "#for the first element\n",
        "print(listIndex1[0])\n",
        "#there are just 5 elements in the list so we can display the 9th element\n",
        "#we could used the index of that particular element\n",
        "print(listIndex1[2:3])"
      ],
      "execution_count": 1,
      "outputs": [
        {
          "output_type": "stream",
          "name": "stdout",
          "text": [
            "2\n",
            "[6]\n"
          ]
        }
      ]
    },
    {
      "cell_type": "code",
      "metadata": {
        "colab": {
          "base_uri": "https://localhost:8080/",
          "height": 197
        },
        "id": "715bwB6msrcG",
        "outputId": "39029a3b-0141-4dbd-86a6-9f30e7fc34bf"
      },
      "source": [
        "var1 = listIndex1[5]\n",
        "print (var1)\n",
        "#the outcome shows out of range. we have 5 element. but counting starts from 0, so 5th index is out of range\n",
        "#Trying to access any index greater than the number of index will display an error message 'out of range'"
      ],
      "execution_count": 4,
      "outputs": [
        {
          "output_type": "error",
          "ename": "IndexError",
          "evalue": "ignored",
          "traceback": [
            "\u001b[0;31m---------------------------------------------------------------------------\u001b[0m",
            "\u001b[0;31mIndexError\u001b[0m                                Traceback (most recent call last)",
            "\u001b[0;32m<ipython-input-4-a9b36f06ecb5>\u001b[0m in \u001b[0;36m<module>\u001b[0;34m()\u001b[0m\n\u001b[0;32m----> 1\u001b[0;31m \u001b[0mvar1\u001b[0m \u001b[0;34m=\u001b[0m \u001b[0mlistIndex1\u001b[0m\u001b[0;34m[\u001b[0m\u001b[0;36m5\u001b[0m\u001b[0;34m]\u001b[0m\u001b[0;34m\u001b[0m\u001b[0;34m\u001b[0m\u001b[0m\n\u001b[0m\u001b[1;32m      2\u001b[0m \u001b[0mprint\u001b[0m \u001b[0;34m(\u001b[0m\u001b[0mvar1\u001b[0m\u001b[0;34m)\u001b[0m\u001b[0;34m\u001b[0m\u001b[0;34m\u001b[0m\u001b[0m\n\u001b[1;32m      3\u001b[0m \u001b[0;31m#theoutcome shows out of range. we have 5 element. but counting starts from 0, so 5th index is out of range\u001b[0m\u001b[0;34m\u001b[0m\u001b[0;34m\u001b[0m\u001b[0;34m\u001b[0m\u001b[0m\n",
            "\u001b[0;31mIndexError\u001b[0m: list index out of range"
          ]
        }
      ]
    },
    {
      "cell_type": "code",
      "metadata": {
        "colab": {
          "base_uri": "https://localhost:8080/"
        },
        "id": "el6RjfudteCs",
        "outputId": "eccd3a76-8465-4618-e85c-c61bc79003e6"
      },
      "source": [
        "listIndex2 = listIndex1[4:7]\n",
        "print(listIndex2)\n",
        "#we have just one value cuz from the index 4 is of element 10 and is the last element "
      ],
      "execution_count": 5,
      "outputs": [
        {
          "output_type": "stream",
          "name": "stdout",
          "text": [
            "[10]\n"
          ]
        }
      ]
    }
  ]
}