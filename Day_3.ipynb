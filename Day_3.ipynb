{
  "nbformat": 4,
  "nbformat_minor": 0,
  "metadata": {
    "colab": {
      "name": "Day 3.ipynb",
      "provenance": [],
      "collapsed_sections": [],
      "authorship_tag": "ABX9TyMKoMLX9am6xjxnZmjWVuRi",
      "include_colab_link": true
    },
    "kernelspec": {
      "name": "python3",
      "display_name": "Python 3"
    },
    "language_info": {
      "name": "python"
    }
  },
  "cells": [
    {
      "cell_type": "markdown",
      "metadata": {
        "id": "view-in-github",
        "colab_type": "text"
      },
      "source": [
        "<a href=\"https://colab.research.google.com/github/Afungchwi/WTMGDG-Bambili-100-Days-of-Code-Data-Science/blob/main/Day_3.ipynb\" target=\"_parent\"><img src=\"https://colab.research.google.com/assets/colab-badge.svg\" alt=\"Open In Colab\"/></a>"
      ]
    },
    {
      "cell_type": "markdown",
      "metadata": {
        "id": "PkvS66ur-9Ou"
      },
      "source": [
        "Adding two real numbers"
      ]
    },
    {
      "cell_type": "code",
      "metadata": {
        "colab": {
          "base_uri": "https://localhost:8080/"
        },
        "id": "Rfa3y7ni3SJe",
        "outputId": "0690daff-c6e6-4ff7-f543-41f8ae1df09e"
      },
      "source": [
        "answer = 1 + 1\n",
        "#print (answer)\n",
        "\n",
        "var1 = 2 + 2\n",
        "print (var1)\n",
        "#var1 is an addition of two numbers"
      ],
      "execution_count": 4,
      "outputs": [
        {
          "output_type": "stream",
          "name": "stdout",
          "text": [
            "4\n"
          ]
        }
      ]
    },
    {
      "cell_type": "markdown",
      "metadata": {
        "id": "2NZg7YDJ-rfo"
      },
      "source": [
        "Adding a whole number to a fraction"
      ]
    },
    {
      "cell_type": "code",
      "metadata": {
        "colab": {
          "base_uri": "https://localhost:8080/"
        },
        "id": "9DRx6OHh4NnS",
        "outputId": "991fad09-68e0-4478-9bfd-1217a9ddd2ec"
      },
      "source": [
        "var2 = 3 + 2/5\n",
        "print (var2)\n",
        "#the  var2 adding a whole number to a fraction"
      ],
      "execution_count": 6,
      "outputs": [
        {
          "output_type": "stream",
          "name": "stdout",
          "text": [
            "3.4\n"
          ]
        }
      ]
    },
    {
      "cell_type": "markdown",
      "metadata": {
        "id": "rRisahAf-ohk"
      },
      "source": [
        "Multiplication of two integers"
      ]
    },
    {
      "cell_type": "code",
      "metadata": {
        "colab": {
          "base_uri": "https://localhost:8080/"
        },
        "id": "WVQ91bYR4jvk",
        "outputId": "2f493a90-3300-4873-93e8-056a1b90dbe4"
      },
      "source": [
        "var3 = 4 * 16\n",
        "print (var3)\n",
        "#var3 is doing a multiplication of two integers"
      ],
      "execution_count": 12,
      "outputs": [
        {
          "output_type": "stream",
          "name": "stdout",
          "text": [
            "64\n"
          ]
        }
      ]
    },
    {
      "cell_type": "markdown",
      "metadata": {
        "id": "z-CwdbBB-XXG"
      },
      "source": [
        "Power of a number"
      ]
    },
    {
      "cell_type": "code",
      "metadata": {
        "colab": {
          "base_uri": "https://localhost:8080/"
        },
        "id": "nbAJ9AEf5Fa2",
        "outputId": "3b772fb6-13ff-455f-b733-edc000d49496"
      },
      "source": [
        "var4 = 4**6\n",
        "print(var4)"
      ],
      "execution_count": 10,
      "outputs": [
        {
          "output_type": "stream",
          "name": "stdout",
          "text": [
            "4096\n"
          ]
        }
      ]
    },
    {
      "cell_type": "markdown",
      "metadata": {
        "id": "8fxjLqny-OTw"
      },
      "source": [
        "Concantenation of strings"
      ]
    },
    {
      "cell_type": "code",
      "metadata": {
        "colab": {
          "base_uri": "https://localhost:8080/"
        },
        "id": "BuedOan45QAD",
        "outputId": "80cb2032-3699-4f07-8022-0d9370dedd3c"
      },
      "source": [
        "var5 = \"Hello \" + \"World\"\n",
        "print (var5)\n",
        "#concantenation of two strings with the help of a plus sign"
      ],
      "execution_count": 13,
      "outputs": [
        {
          "output_type": "stream",
          "name": "stdout",
          "text": [
            "Hello World\n"
          ]
        }
      ]
    },
    {
      "cell_type": "markdown",
      "metadata": {
        "id": "1KHgQ6-J-Gsc"
      },
      "source": [
        "Multiplication of a string "
      ]
    },
    {
      "cell_type": "code",
      "metadata": {
        "colab": {
          "base_uri": "https://localhost:8080/"
        },
        "id": "7QBwTY-05qIp",
        "outputId": "609678cd-4021-49ea-af34-fce33289a765"
      },
      "source": [
        "var6 = 'Hello World ' * 5\n",
        "print (var6)\n",
        "#var6 takes the string and repeat it 5 times"
      ],
      "execution_count": 16,
      "outputs": [
        {
          "output_type": "stream",
          "name": "stdout",
          "text": [
            "Hello World Hello World Hello World Hello World Hello World \n"
          ]
        }
      ]
    },
    {
      "cell_type": "markdown",
      "metadata": {
        "id": "tfuvWHrF9-sD"
      },
      "source": [
        "modulo operation"
      ]
    },
    {
      "cell_type": "code",
      "metadata": {
        "colab": {
          "base_uri": "https://localhost:8080/"
        },
        "id": "fRLh8_Xt6FT1",
        "outputId": "a62ded32-12c2-4ece-8727-c16772900700"
      },
      "source": [
        "var7 = 4 % 3\n",
        "print(var7)\n",
        "#var7 uses the modulo function which in python is the % sign when 'modulo' is used it gives an error message 'invalid syntax'"
      ],
      "execution_count": 22,
      "outputs": [
        {
          "output_type": "stream",
          "name": "stdout",
          "text": [
            "1\n"
          ]
        }
      ]
    }
  ]
}