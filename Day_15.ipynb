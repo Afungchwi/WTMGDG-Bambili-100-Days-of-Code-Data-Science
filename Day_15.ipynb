{
  "nbformat": 4,
  "nbformat_minor": 0,
  "metadata": {
    "colab": {
      "name": "Day 15.ipynb",
      "provenance": [],
      "authorship_tag": "ABX9TyNhDrqF1Jhhjcqmprsdy9xX",
      "include_colab_link": true
    },
    "kernelspec": {
      "name": "python3",
      "display_name": "Python 3"
    },
    "language_info": {
      "name": "python"
    }
  },
  "cells": [
    {
      "cell_type": "markdown",
      "metadata": {
        "id": "view-in-github",
        "colab_type": "text"
      },
      "source": [
        "<a href=\"https://colab.research.google.com/github/Afungchwi/WTMGDG-Bambili-100-Days-of-Code-Data-Science/blob/main/Day_15.ipynb\" target=\"_parent\"><img src=\"https://colab.research.google.com/assets/colab-badge.svg\" alt=\"Open In Colab\"/></a>"
      ]
    },
    {
      "cell_type": "markdown",
      "metadata": {
        "id": "HQCiCnuW-5HG"
      },
      "source": [
        "Input"
      ]
    },
    {
      "cell_type": "code",
      "metadata": {
        "colab": {
          "base_uri": "https://localhost:8080/"
        },
        "id": "FNu5d6f79Fgq",
        "outputId": "8918c27a-3793-4ce5-9a81-e47c3e65cf72"
      },
      "source": [
        "#input with strings\n",
        "s = input()\n",
        "print(s)\n",
        "name = input('What is your name? ')\n",
        "print(name)\n",
        "#input with number\n",
        "number = int(input('enter a number : '))\n",
        "print('number: ', number)"
      ],
      "execution_count": 5,
      "outputs": [
        {
          "output_type": "stream",
          "name": "stdout",
          "text": [
            "tre\n",
            "tre\n",
            "What is your name? livian\n",
            "livian\n",
            "enter a number : 13\n",
            "number:  13\n"
          ]
        }
      ]
    },
    {
      "cell_type": "markdown",
      "metadata": {
        "id": "eyyzvVeB-7lv"
      },
      "source": [
        "Output"
      ]
    },
    {
      "cell_type": "code",
      "metadata": {
        "colab": {
          "base_uri": "https://localhost:8080/"
        },
        "id": "Lmw36iqc-HMn",
        "outputId": "322016f5-7075-4abd-ef84-c71d8619e2a3"
      },
      "source": [
        "fname = 'Olivian'\n",
        "lname = 'Afungchwi'\n",
        "print('Name:', fname, lname)"
      ],
      "execution_count": 7,
      "outputs": [
        {
          "output_type": "stream",
          "name": "stdout",
          "text": [
            "Name: Olivian Afungchwi\n"
          ]
        }
      ]
    },
    {
      "cell_type": "code",
      "metadata": {
        "colab": {
          "base_uri": "https://localhost:8080/"
        },
        "id": "Bi8sILgQ_PuR",
        "outputId": "2828e300-fb70-4243-cac5-aa9734eb56c3"
      },
      "source": [
        "a = [1, 2, 3]\n",
        "print(type(a))\n",
        "\n",
        "b = -12\n",
        "print(type(b))\n",
        "\n",
        "d = {'foo': 1, 'bar': 2}\n",
        "print(type(d))\n",
        "\n",
        "print(type(len))\n",
        "\n",
        "print(a, b, d, len)\n"
      ],
      "execution_count": 10,
      "outputs": [
        {
          "output_type": "stream",
          "name": "stdout",
          "text": [
            "<class 'list'>\n",
            "<class 'int'>\n",
            "<class 'dict'>\n",
            "<class 'builtin_function_or_method'>\n",
            "[1, 2, 3] -12 {'foo': 1, 'bar': 2} <built-in function len>\n"
          ]
        }
      ]
    },
    {
      "cell_type": "code",
      "metadata": {
        "colab": {
          "base_uri": "https://localhost:8080/"
        },
        "id": "oKsgWgKM_9dD",
        "outputId": "2e3ac54a-4404-4220-82f5-eeb92aae86fa"
      },
      "source": [
        "d = {'foo': 1, 'bar': 2, 'baz': 3}\n",
        "for k, v in d.items():\n",
        "  print(k, v, sep=' -> ')"
      ],
      "execution_count": 13,
      "outputs": [
        {
          "output_type": "stream",
          "name": "stdout",
          "text": [
            "foo -> 1\n",
            "bar -> 2\n",
            "baz -> 3\n"
          ]
        }
      ]
    },
    {
      "cell_type": "markdown",
      "metadata": {
        "id": "WrDwGQhjAaZ4"
      },
      "source": [
        "String Modulo"
      ]
    },
    {
      "cell_type": "code",
      "metadata": {
        "colab": {
          "base_uri": "https://localhost:8080/"
        },
        "id": "i8r-PvhRAY-t",
        "outputId": "93af6bff-bd7a-40d7-c373-001095f21101"
      },
      "source": [
        "print('%d %s cost $%.2f' % (6, 'bananas', 1.74))\n",
        "print('Hello, my name is %s.' % 'Olivian')"
      ],
      "execution_count": 15,
      "outputs": [
        {
          "output_type": "stream",
          "name": "stdout",
          "text": [
            "6 bananas cost $1.74\n",
            "Hello, my name is Olivian.\n"
          ]
        }
      ]
    },
    {
      "cell_type": "markdown",
      "metadata": {
        "id": "hD37it7oBjso"
      },
      "source": [
        "Integer conversion type"
      ]
    },
    {
      "cell_type": "code",
      "metadata": {
        "colab": {
          "base_uri": "https://localhost:8080/"
        },
        "id": "eu5UKMEsBf4h",
        "outputId": "3b02e58e-889b-4930-e9c9-d2a8a38a9323"
      },
      "source": [
        "#for integers\n",
        "print('int', '%d, %i, %u' % (42, 42, 42))\n",
        "#for hexadecimal\n",
        "print('hexa', '%x, %X' % (10, 10))\n",
        "#for octal\n",
        "print('oct', '%o' % (10))\n",
        "#float\n",
        "print('float', '%f, %F' % (3.19, 3.14))\n",
        "#%g n %G choose bwn float n exponent\n",
        "print('float', '%g' % 3.14)\n",
        "print('expo', '%g' % 0.00000003)"
      ],
      "execution_count": 23,
      "outputs": [
        {
          "output_type": "stream",
          "name": "stdout",
          "text": [
            "int 42, 42, 42\n",
            "hexa a, A\n",
            "oct 12\n",
            "float 3.190000, 3.140000\n",
            "float 3.14\n",
            "expo 3e-08\n"
          ]
        }
      ]
    },
    {
      "cell_type": "markdown",
      "metadata": {
        "id": "cW-3DhSIEKKn"
      },
      "source": [
        "Character conversion "
      ]
    },
    {
      "cell_type": "code",
      "metadata": {
        "colab": {
          "base_uri": "https://localhost:8080/"
        },
        "id": "bqK67uebEImf",
        "outputId": "21b0a35d-226e-4638-ad06-ad8664bee617"
      },
      "source": [
        "print('xter', '%c' % 97)"
      ],
      "execution_count": 25,
      "outputs": [
        {
          "output_type": "stream",
          "name": "stdout",
          "text": [
            "xter a\n"
          ]
        }
      ]
    },
    {
      "cell_type": "markdown",
      "metadata": {
        "id": "NRllBBDmE_dY"
      },
      "source": [
        "precision"
      ]
    },
    {
      "cell_type": "code",
      "metadata": {
        "colab": {
          "base_uri": "https://localhost:8080/"
        },
        "id": "NiYwzyVpEnxp",
        "outputId": "5495049d-9c85-4db4-9965-13f1ec109422"
      },
      "source": [
        "print('%.2f' % 123.456789)\n",
        "print('%.2e' % 123.456789)"
      ],
      "execution_count": 28,
      "outputs": [
        {
          "output_type": "stream",
          "name": "stdout",
          "text": [
            "123.46\n",
            "1.23e+02\n"
          ]
        }
      ]
    },
    {
      "cell_type": "code",
      "metadata": {
        "id": "xlklrkxVF9Ac",
        "outputId": "e3582c83-fb57-40b4-ab8b-c5c57d654a4a",
        "colab": {
          "base_uri": "https://localhost:8080/"
        }
      },
      "source": [
        "for i in range(3):\n",
        "  w = int(input('Enter width: '))\n",
        "  print('[%*s]' % (w, 'foo'))"
      ],
      "execution_count": 30,
      "outputs": [
        {
          "output_type": "stream",
          "name": "stdout",
          "text": [
            "Enter width: 4\n",
            "[ foo]\n",
            "Enter width: 6\n",
            "[   foo]\n",
            "Enter width: 8\n",
            "[     foo]\n"
          ]
        }
      ]
    },
    {
      "cell_type": "code",
      "metadata": {
        "id": "GdDlNV2mGWQu"
      },
      "source": [
        "#flag\n",
        "#including base info \n",
        "# '#' flag\n",
        "print('oct', '%#o' % 16)\n",
        "print('hex', '%#x' % 16, '%#X' % 16)\n",
        "\n",
        "# '0' flag adding a padding of 0 to the number\n",
        "print('0 flag', '%05d' % 123)\n",
        "\n",
        "# '-' flag The - flag causes the value to be left-justified \n",
        "print('- flag', '%-8.2f' % 123.3)\n",
        "\n",
        "# '+' flag the + flag adds a '+' character to the left of numeric output\n",
        "print('+ flag',  '%+d' % 3)\n",
        "print('+ flag', '%+5d' % 3)\n",
        "\n",
        "# ' ' flag The ' ' (space character) flag causes positive numeric values to be preceded by a space character\n",
        "print(' ' ,  '% d' % 3)"
      ],
      "execution_count": null,
      "outputs": []
    },
    {
      "cell_type": "code",
      "metadata": {
        "id": "WLW_X9q9Im5-",
        "outputId": "bf85e571-80d4-49bb-b816-ce6afb9f636b",
        "colab": {
          "base_uri": "https://localhost:8080/"
        }
      },
      "source": [
        "d = {'quantity': 6, 'item': 'bananas', 'price': 1.74}\n",
        "print('%(quantity)d %(item)s cost $%(price).2f' % d)"
      ],
      "execution_count": 34,
      "outputs": [
        {
          "output_type": "stream",
          "name": "stdout",
          "text": [
            "6 bananas cost $1.74\n"
          ]
        }
      ]
    }
  ]
}