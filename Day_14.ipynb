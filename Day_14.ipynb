{
  "nbformat": 4,
  "nbformat_minor": 0,
  "metadata": {
    "colab": {
      "name": "Day 14.ipynb",
      "provenance": [],
      "collapsed_sections": [],
      "authorship_tag": "ABX9TyNSZklYSebGWl5MkHEcy7Uw",
      "include_colab_link": true
    },
    "kernelspec": {
      "name": "python3",
      "display_name": "Python 3"
    },
    "language_info": {
      "name": "python"
    }
  },
  "cells": [
    {
      "cell_type": "markdown",
      "metadata": {
        "id": "view-in-github",
        "colab_type": "text"
      },
      "source": [
        "<a href=\"https://colab.research.google.com/github/Afungchwi/WTMGDG-Bambili-100-Days-of-Code-Data-Science/blob/main/Day_14.ipynb\" target=\"_parent\"><img src=\"https://colab.research.google.com/assets/colab-badge.svg\" alt=\"Open In Colab\"/></a>"
      ]
    },
    {
      "cell_type": "markdown",
      "metadata": {
        "id": "AvJ_C7D3meDS"
      },
      "source": [
        "*Functions* relationship bwn 2 more inputs"
      ]
    },
    {
      "cell_type": "code",
      "metadata": {
        "colab": {
          "base_uri": "https://localhost:8080/"
        },
        "id": "gRx6K-8JmcFy",
        "outputId": "e2f97900-5049-4ea6-bd52-c3ed51d83343"
      },
      "source": [
        "def f(qty, item, price):\n",
        "  print(f'{qty} {item} cost ${price:.2f} ')\n",
        "\n",
        "f(3, 'pen', 150)\n"
      ],
      "execution_count": 3,
      "outputs": [
        {
          "output_type": "stream",
          "name": "stdout",
          "text": [
            "3 pen cost $150.00 \n"
          ]
        }
      ]
    },
    {
      "cell_type": "code",
      "metadata": {
        "colab": {
          "base_uri": "https://localhost:8080/"
        },
        "id": "V04wTRHhrY5r",
        "outputId": "e23a51f1-f7b7-4278-defa-044fd0bf1286"
      },
      "source": [
        "def t(x):\n",
        "  x = 'foo'\n",
        "\n",
        "for i in ( 40,\n",
        "    dict(foo = '1', bar = '2'),\n",
        "    {1,2,3,4},\n",
        "    'home',\n",
        "    ['go', 5, 'pit']):\n",
        "  t(i)\n",
        "  print(i)\n",
        "  \n"
      ],
      "execution_count": 8,
      "outputs": [
        {
          "output_type": "stream",
          "name": "stdout",
          "text": [
            "40\n",
            "{'foo': '1', 'bar': '2'}\n",
            "{1, 2, 3, 4}\n",
            "home\n",
            "['go', 5, 'pit']\n"
          ]
        }
      ]
    },
    {
      "cell_type": "code",
      "metadata": {
        "colab": {
          "base_uri": "https://localhost:8080/"
        },
        "id": "dLWKL9QvtoJa",
        "outputId": "4e0c7181-08fd-4ea9-ee99-c6bae03cefcd"
      },
      "source": [
        "def double(x):\n",
        "  return x * 2\n",
        "\n",
        "x = 5\n",
        "x = double(x)  \n",
        "print(x)\n"
      ],
      "execution_count": 14,
      "outputs": [
        {
          "output_type": "stream",
          "name": "stdout",
          "text": [
            "10\n"
          ]
        }
      ]
    },
    {
      "cell_type": "code",
      "metadata": {
        "colab": {
          "base_uri": "https://localhost:8080/"
        },
        "id": "tznUVpLnzdWE",
        "outputId": "315e1373-20b0-41c3-ca76-8c4f222652a0"
      },
      "source": [
        "def double_list(y):\n",
        "  i = 0\n",
        "  while i < len(y):\n",
        "    y[i] *= 2\n",
        "    i += 1\n",
        "  \n",
        "d = [2,4,6]\n",
        "double_list(d)\n",
        "d"
      ],
      "execution_count": 39,
      "outputs": [
        {
          "output_type": "execute_result",
          "data": {
            "text/plain": [
              "[4, 8, 12]"
            ]
          },
          "metadata": {},
          "execution_count": 39
        }
      ]
    },
    {
      "cell_type": "code",
      "metadata": {
        "colab": {
          "base_uri": "https://localhost:8080/"
        },
        "id": "1hmK0boGu7oZ",
        "outputId": "689ef3e4-1335-4781-aa7a-30b6c1aee48e"
      },
      "source": [
        "def avg(a,b, c):\n",
        "  return (a+b+c) / 3\n",
        "\n",
        "print(avg(1,2,3))  \n",
        "\n"
      ],
      "execution_count": 22,
      "outputs": [
        {
          "output_type": "stream",
          "name": "stdout",
          "text": [
            "2.0\n"
          ]
        }
      ]
    },
    {
      "cell_type": "code",
      "metadata": {
        "colab": {
          "base_uri": "https://localhost:8080/"
        },
        "id": "8VmQhiIg0ZQ4",
        "outputId": "9c330c08-b106-45d1-fd4b-6ff710ba2ab0"
      },
      "source": [
        "def avg_long(a):\n",
        "  total = 0\n",
        "  for v in a:\n",
        "    total += v\n",
        "  return total / len(a)\n",
        "\n",
        "print(avg_long([1,2,3]))\n",
        "print(avg_long([1,2,3,4,5]))"
      ],
      "execution_count": 23,
      "outputs": [
        {
          "output_type": "stream",
          "name": "stdout",
          "text": [
            "2.0\n",
            "3.0\n"
          ]
        }
      ]
    },
    {
      "cell_type": "markdown",
      "metadata": {
        "id": "XXWFo_hhyLyB"
      },
      "source": [
        "keyword argument"
      ]
    },
    {
      "cell_type": "code",
      "metadata": {
        "colab": {
          "base_uri": "https://localhost:8080/"
        },
        "id": "FTQOzoPkxEFc",
        "outputId": "f9f50566-3d33-4c62-a553-fe397d8152a9"
      },
      "source": [
        "def concat(prefix, *args):\n",
        "  print(f'{prefix}{\".\".join(args)}')\n",
        "\n",
        "\n",
        "print(concat( 'a', 'b', 'c'))"
      ],
      "execution_count": 28,
      "outputs": [
        {
          "output_type": "stream",
          "name": "stdout",
          "text": [
            "ab.c\n",
            "None\n"
          ]
        }
      ]
    },
    {
      "cell_type": "code",
      "metadata": {
        "colab": {
          "base_uri": "https://localhost:8080/"
        },
        "id": "-yS2pu6G19uk",
        "outputId": "de312cd2-dc76-459d-c646-30f009a27123"
      },
      "source": [
        "def concat(*args, prefix='-> ', sep='-'):\n",
        "  print(f'{prefix}{sep.join(args)}')\n",
        "\n",
        "print(concat( 'a', 'b', 'c'))"
      ],
      "execution_count": 30,
      "outputs": [
        {
          "output_type": "stream",
          "name": "stdout",
          "text": [
            "-> a-b-c\n",
            "None\n"
          ]
        }
      ]
    },
    {
      "cell_type": "code",
      "metadata": {
        "colab": {
          "base_uri": "https://localhost:8080/"
        },
        "id": "8TO1HDsS3Dr3",
        "outputId": "06c4e865-8b69-4e44-9b1d-98d0bb07d5bb"
      },
      "source": [
        "def oper(x, y, op='+'):\n",
        "  if op == '+':\n",
        "    return x + y\n",
        "  elif op == '-':\n",
        "    return x - y\n",
        "  elif op == '/': \n",
        "    return x / y          \n",
        "  else:\n",
        "    return None   \n",
        "\n",
        "print(oper(1,2)) \n",
        "print(oper(1,2, '/'))             "
      ],
      "execution_count": 40,
      "outputs": [
        {
          "output_type": "stream",
          "name": "stdout",
          "text": [
            "3\n",
            "0.5\n"
          ]
        }
      ]
    },
    {
      "cell_type": "code",
      "metadata": {
        "colab": {
          "base_uri": "https://localhost:8080/"
        },
        "id": "8s5FQAlg6GbU",
        "outputId": "65d4d377-5637-429d-a53b-885d42462b86"
      },
      "source": [
        "def f(x, y, z):\n",
        "    print(f'x: {x}')\n",
        "    print(f'y: {y}')\n",
        "    print(f'z: {z}')\n",
        "\n",
        "f(2,4,6)"
      ],
      "execution_count": 42,
      "outputs": [
        {
          "output_type": "stream",
          "name": "stdout",
          "text": [
            "x: 2\n",
            "y: 4\n",
            "z: 6\n"
          ]
        }
      ]
    },
    {
      "cell_type": "code",
      "metadata": {
        "id": "V2CAowlf6ReB"
      },
      "source": [
        "#A docstring is used to supply documentation for a function\n",
        "def avg(*avg):\n",
        "  \"\"\"Returns the average of a list of numeric values. \"\"\"\n",
        "  return sum(args) / len(args)"
      ],
      "execution_count": 44,
      "outputs": []
    },
    {
      "cell_type": "code",
      "metadata": {
        "colab": {
          "base_uri": "https://localhost:8080/"
        },
        "id": "Noxw47Qm6rBr",
        "outputId": "0671c521-235a-471d-d7dc-b552ae9d5535"
      },
      "source": [
        "#Annotation\n",
        "#Annotations provide a way to attach metadata to a function’s parameters and return value.\n",
        "def f(a: int, b: str) -> float:\n",
        "  print(a, b)\n",
        "  return(3.5)\n",
        "\n",
        "f(1, 'jg')\n",
        "f.__annotations__"
      ],
      "execution_count": 46,
      "outputs": [
        {
          "output_type": "stream",
          "name": "stdout",
          "text": [
            "1 jg\n"
          ]
        },
        {
          "output_type": "execute_result",
          "data": {
            "text/plain": [
              "{'a': int, 'b': str, 'return': float}"
            ]
          },
          "metadata": {},
          "execution_count": 46
        }
      ]
    }
  ]
}